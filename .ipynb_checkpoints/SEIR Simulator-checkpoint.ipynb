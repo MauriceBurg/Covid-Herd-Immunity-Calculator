{
 "cells": [
  {
   "cell_type": "markdown",
   "metadata": {},
   "source": [
    "# COVID-19 HERD CALCULATOR"
   ]
  },
  {
   "cell_type": "markdown",
   "metadata": {},
   "source": [
    "###  Set-Up for Forecasting"
   ]
  },
  {
   "cell_type": "code",
   "execution_count": 87,
   "metadata": {},
   "outputs": [
    {
     "name": "stdout",
     "output_type": "stream",
     "text": [
      "The autoreload extension is already loaded. To reload it, use:\n",
      "  %reload_ext autoreload\n"
     ]
    }
   ],
   "source": [
    "%load_ext autoreload\n",
    "%autoreload 2"
   ]
  },
  {
   "cell_type": "code",
   "execution_count": 88,
   "metadata": {},
   "outputs": [],
   "source": [
    "import os\n",
    "os.chdir('..') # only run once - I need to improve how we handle these relative paths, but this will work for now"
   ]
  },
  {
   "cell_type": "code",
   "execution_count": 89,
   "metadata": {},
   "outputs": [],
   "source": [
    "import pandas as pd\n",
    "import numpy as np\n",
    "import sklearn.metrics as metrics\n",
    "\n",
    "import sys\n",
    "sys.path.insert(1,'../yyg-seir-simulator')\n",
    "\n",
    "import run_simulation"
   ]
  },
  {
   "cell_type": "code",
   "execution_count": 90,
   "metadata": {},
   "outputs": [
    {
     "name": "stdout",
     "output_type": "stream",
     "text": [
      "/Users/mauriceburger/yyg-seir-simulator\n"
     ]
    }
   ],
   "source": [
    "cd yyg-seir-simulator"
   ]
  },
  {
   "cell_type": "markdown",
   "metadata": {},
   "source": [
    "### Run Youyang Gu's SEIR infection simulation for Philadelphia"
   ]
  },
  {
   "cell_type": "code",
   "execution_count": 91,
   "metadata": {
    "scrolled": false
   },
   "outputs": [
    {
     "name": "stdout",
     "output_type": "stream",
     "text": [
      "====================================================\r\n",
      "YYG/C19PRO Simulator\r\n",
      "Current time: 2021-01-18 10:54:09.596074\r\n",
      "====================================================\r\n",
      "Loading params file: best_params/latest/subregion/US_PA_Philadelphia.json\r\n",
      "best params type: mean\r\n",
      "================================\r\n",
      "US | PA | Philadelphia\r\n",
      "================================\r\n",
      "Parameters:\r\n",
      "INITIAL_R_0               : 3.786765484922743\r\n",
      "LOCKDOWN_R_0              : 0.862126469543858\r\n",
      "INFLECTION_DAY            : 2020-03-16\r\n",
      "RATE_OF_INFLECTION        : 0.38090896211990627\r\n",
      "LOCKDOWN_FATIGUE          : 1.0\r\n",
      "DAILY_IMPORTS             : 341.0675605457681\r\n",
      "MORTALITY_RATE            : 0.010000000000000002\r\n",
      "REOPEN_DATE               : 2020-06-15\r\n",
      "REOPEN_SHIFT_DAYS         : -0.17785118910400016\r\n",
      "REOPEN_R                  : 1.1030124623303692\r\n",
      "REOPEN_INFLECTION         : 0.2987461710903824\r\n",
      "POST_REOPEN_EQUILIBRIUM_R : 0.9755569564839857\r\n",
      "FALL_R_MULTIPLIER         : 1.0021399641171804\r\n",
      "--------------------------\r\n",
      "Running simulation...\r\n",
      "--------------------------\r\n",
      "1   - 2020-03-01 - New / total infections: 341 / 341 - Hospital beds in use: 0 - New / total deaths: 0.00 / 0.0 - Mean R: 3.787 - IFR: 1.00%\r\n",
      "2   - 2020-03-02 - New / total infections: 341 / 682 - Hospital beds in use: 0 - New / total deaths: 0.00 / 0.0 - Mean R: 3.773 - IFR: 1.00%\r\n",
      "3   - 2020-03-03 - New / total infections: 341 / 1,023 - Hospital beds in use: 0 - New / total deaths: 0.00 / 0.0 - Mean R: 3.766 - IFR: 1.00%\r\n",
      "4   - 2020-03-04 - New / total infections: 341 / 1,364 - Hospital beds in use: 0 - New / total deaths: 0.00 / 0.0 - Mean R: 3.757 - IFR: 1.00%\r\n",
      "5   - 2020-03-05 - New / total infections: 341 / 1,705 - Hospital beds in use: 0 - New / total deaths: 0.00 / 0.0 - Mean R: 3.743 - IFR: 1.00%\r\n",
      "6   - 2020-03-06 - New / total infections: 341 / 2,046 - Hospital beds in use: 0 - New / total deaths: 0.00 / 0.0 - Mean R: 3.723 - IFR: 1.00%\r\n",
      "7   - 2020-03-07 - New / total infections: 341 / 2,387 - Hospital beds in use: 0 - New / total deaths: 0.00 / 0.0 - Mean R: 3.695 - IFR: 1.00%\r\n",
      "8   - 2020-03-08 - New / total infections: 341 / 2,729 - Hospital beds in use: 0 - New / total deaths: 0.00 / 0.0 - Mean R: 3.654 - IFR: 1.00%\r\n",
      "9   - 2020-03-09 - New / total infections: 341 / 3,070 - Hospital beds in use: 0 - New / total deaths: 0.00 / 0.0 - Mean R: 3.597 - IFR: 1.00%\r\n",
      "10  - 2020-03-10 - New / total infections: 1,540 / 4,609 - Hospital beds in use: 0 - New / total deaths: 0.00 / 0.0 - Mean R: 3.515 - IFR: 1.00%\r\n",
      "11  - 2020-03-11 - New / total infections: 1,499 / 6,108 - Hospital beds in use: 0 - New / total deaths: 0.00 / 0.0 - Mean R: 3.406 - IFR: 1.00%\r\n",
      "12  - 2020-03-12 - New / total infections: 1,641 / 7,750 - Hospital beds in use: 0 - New / total deaths: 0.00 / 0.0 - Mean R: 3.261 - IFR: 1.00%\r\n",
      "13  - 2020-03-13 - New / total infections: 1,926 / 9,675 - Hospital beds in use: 0 - New / total deaths: 0.00 / 0.0 - Mean R: 3.076 - IFR: 1.00%\r\n",
      "14  - 2020-03-14 - New / total infections: 2,498 / 12,173 - Hospital beds in use: 6 - New / total deaths: 0.00 / 0.0 - Mean R: 2.852 - IFR: 1.00%\r\n",
      "15  - 2020-03-15 - New / total infections: 3,284 / 15,458 - Hospital beds in use: 13 - New / total deaths: 0.00 / 0.0 - Mean R: 2.595 - IFR: 1.00%\r\n",
      "16  - 2020-03-16 - New / total infections: 3,692 / 19,149 - Hospital beds in use: 20 - New / total deaths: 0.00 / 0.0 - Mean R: 2.319 - IFR: 1.00%\r\n",
      "17  - 2020-03-17 - New / total infections: 3,916 / 23,065 - Hospital beds in use: 27 - New / total deaths: 0.01 / 0.0 - Mean R: 2.043 - IFR: 1.00%\r\n",
      "18  - 2020-03-18 - New / total infections: 4,144 / 27,209 - Hospital beds in use: 34 - New / total deaths: 0.02 / 0.0 - Mean R: 1.786 - IFR: 1.00%\r\n",
      "19  - 2020-03-19 - New / total infections: 4,363 / 31,572 - Hospital beds in use: 40 - New / total deaths: 0.04 / 0.1 - Mean R: 1.562 - IFR: 1.00%\r\n",
      "20  - 2020-03-20 - New / total infections: 4,572 / 36,143 - Hospital beds in use: 47 - New / total deaths: 0.06 / 0.1 - Mean R: 1.378 - IFR: 1.00%\r\n",
      "21  - 2020-03-21 - New / total infections: 4,650 / 40,793 - Hospital beds in use: 54 - New / total deaths: 0.09 / 0.2 - Mean R: 1.234 - IFR: 1.00%\r\n",
      "22  - 2020-03-22 - New / total infections: 4,636 / 45,429 - Hospital beds in use: 61 - New / total deaths: 0.13 / 0.4 - Mean R: 1.124 - IFR: 1.00%\r\n",
      "23  - 2020-03-23 - New / total infections: 4,595 / 50,025 - Hospital beds in use: 92 - New / total deaths: 0.18 / 0.5 - Mean R: 1.044 - IFR: 1.00%\r\n",
      "24  - 2020-03-24 - New / total infections: 4,553 / 54,578 - Hospital beds in use: 122 - New / total deaths: 0.24 / 0.8 - Mean R: 0.986 - IFR: 1.00%\r\n",
      "25  - 2020-03-25 - New / total infections: 4,516 / 59,093 - Hospital beds in use: 148 - New / total deaths: 0.31 / 1.1 - Mean R: 0.945 - IFR: 1.00%\r\n",
      "26  - 2020-03-26 - New / total infections: 4,464 / 63,557 - Hospital beds in use: 179 - New / total deaths: 0.44 / 1.5 - Mean R: 0.916 - IFR: 1.00%\r\n",
      "27  - 2020-03-27 - New / total infections: 4,393 / 67,951 - Hospital beds in use: 223 - New / total deaths: 0.65 / 2.2 - Mean R: 0.895 - IFR: 1.00%\r\n",
      "28  - 2020-03-28 - New / total infections: 4,314 / 72,264 - Hospital beds in use: 281 - New / total deaths: 0.95 / 3.1 - Mean R: 0.881 - IFR: 1.00%\r\n",
      "29  - 2020-03-29 - New / total infections: 4,234 / 76,498 - Hospital beds in use: 348 - New / total deaths: 1.31 / 4.4 - Mean R: 0.871 - IFR: 1.00%\r\n",
      "30  - 2020-03-30 - New / total infections: 4,158 / 80,656 - Hospital beds in use: 420 - New / total deaths: 1.71 / 6.2 - Mean R: 0.864 - IFR: 1.00%\r\n",
      "31  - 2020-03-31 - New / total infections: 4,084 / 84,740 - Hospital beds in use: 496 - New / total deaths: 2.12 / 8.3 - Mean R: 0.859 - IFR: 1.00%\r\n",
      "32  - 2020-04-01 - New / total infections: 4,008 / 88,748 - Hospital beds in use: 576 - New / total deaths: 2.65 / 10.9 - Mean R: 0.855 - IFR: 1.00%\r\n",
      "33  - 2020-04-02 - New / total infections: 3,930 / 92,678 - Hospital beds in use: 661 - New / total deaths: 3.32 / 14.2 - Mean R: 0.852 - IFR: 0.99%\r\n",
      "34  - 2020-04-03 - New / total infections: 3,853 / 96,531 - Hospital beds in use: 723 - New / total deaths: 4.15 / 18.4 - Mean R: 0.850 - IFR: 0.99%\r\n",
      "35  - 2020-04-04 - New / total infections: 3,777 / 100,309 - Hospital beds in use: 786 - New / total deaths: 5.12 / 23.5 - Mean R: 0.849 - IFR: 0.98%\r\n",
      "36  - 2020-04-05 - New / total infections: 3,704 / 104,012 - Hospital beds in use: 845 - New / total deaths: 6.21 / 29.7 - Mean R: 0.847 - IFR: 0.98%\r\n",
      "37  - 2020-04-06 - New / total infections: 3,631 / 107,643 - Hospital beds in use: 898 - New / total deaths: 7.40 / 37.1 - Mean R: 0.846 - IFR: 0.97%\r\n",
      "38  - 2020-04-07 - New / total infections: 3,559 / 111,202 - Hospital beds in use: 938 - New / total deaths: 8.70 / 45.8 - Mean R: 0.845 - IFR: 0.97%\r\n",
      "39  - 2020-04-08 - New / total infections: 3,488 / 114,690 - Hospital beds in use: 961 - New / total deaths: 10.09 / 55.9 - Mean R: 0.845 - IFR: 0.96%\r\n",
      "40  - 2020-04-09 - New / total infections: 3,417 / 118,107 - Hospital beds in use: 976 - New / total deaths: 11.54 / 67.4 - Mean R: 0.844 - IFR: 0.96%\r\n",
      "41  - 2020-04-10 - New / total infections: 3,349 / 121,456 - Hospital beds in use: 983 - New / total deaths: 12.97 / 80.4 - Mean R: 0.843 - IFR: 0.95%\r\n",
      "42  - 2020-04-11 - New / total infections: 3,281 / 124,737 - Hospital beds in use: 985 - New / total deaths: 14.38 / 94.8 - Mean R: 0.842 - IFR: 0.95%\r\n",
      "43  - 2020-04-12 - New / total infections: 3,214 / 127,951 - Hospital beds in use: 981 - New / total deaths: 15.76 / 110.6 - Mean R: 0.842 - IFR: 0.94%\r\n",
      "44  - 2020-04-13 - New / total infections: 3,149 / 131,099 - Hospital beds in use: 971 - New / total deaths: 17.11 / 127.7 - Mean R: 0.841 - IFR: 0.94%\r\n",
      "45  - 2020-04-14 - New / total infections: 3,084 / 134,183 - Hospital beds in use: 959 - New / total deaths: 18.39 / 146.1 - Mean R: 0.841 - IFR: 0.93%\r\n",
      "46  - 2020-04-15 - New / total infections: 3,020 / 137,204 - Hospital beds in use: 944 - New / total deaths: 19.57 / 165.6 - Mean R: 0.840 - IFR: 0.93%\r\n",
      "47  - 2020-04-16 - New / total infections: 2,958 / 140,161 - Hospital beds in use: 930 - New / total deaths: 20.65 / 186.3 - Mean R: 0.840 - IFR: 0.92%\r\n",
      "48  - 2020-04-17 - New / total infections: 2,896 / 143,058 - Hospital beds in use: 914 - New / total deaths: 21.62 / 207.9 - Mean R: 0.839 - IFR: 0.92%\r\n",
      "49  - 2020-04-18 - New / total infections: 2,836 / 145,894 - Hospital beds in use: 898 - New / total deaths: 22.50 / 230.4 - Mean R: 0.839 - IFR: 0.91%\r\n",
      "50  - 2020-04-19 - New / total infections: 2,776 / 148,670 - Hospital beds in use: 881 - New / total deaths: 23.29 / 253.7 - Mean R: 0.838 - IFR: 0.91%\r\n",
      "51  - 2020-04-20 - New / total infections: 2,718 / 151,388 - Hospital beds in use: 865 - New / total deaths: 23.99 / 277.7 - Mean R: 0.838 - IFR: 0.90%\r\n",
      "52  - 2020-04-21 - New / total infections: 2,660 / 154,048 - Hospital beds in use: 848 - New / total deaths: 24.60 / 302.3 - Mean R: 0.837 - IFR: 0.90%\r\n",
      "53  - 2020-04-22 - New / total infections: 2,604 / 156,652 - Hospital beds in use: 832 - New / total deaths: 25.13 / 327.4 - Mean R: 0.837 - IFR: 0.90%\r\n",
      "54  - 2020-04-23 - New / total infections: 2,548 / 159,200 - Hospital beds in use: 815 - New / total deaths: 25.61 / 353.0 - Mean R: 0.836 - IFR: 0.89%\r\n",
      "55  - 2020-04-24 - New / total infections: 2,493 / 161,693 - Hospital beds in use: 799 - New / total deaths: 26.03 / 379.0 - Mean R: 0.836 - IFR: 0.89%\r\n",
      "56  - 2020-04-25 - New / total infections: 2,439 / 164,132 - Hospital beds in use: 784 - New / total deaths: 26.40 / 405.4 - Mean R: 0.835 - IFR: 0.88%\r\n",
      "57  - 2020-04-26 - New / total infections: 2,386 / 166,519 - Hospital beds in use: 768 - New / total deaths: 26.72 / 432.2 - Mean R: 0.835 - IFR: 0.88%\r\n",
      "58  - 2020-04-27 - New / total infections: 2,334 / 168,853 - Hospital beds in use: 753 - New / total deaths: 27.00 / 459.2 - Mean R: 0.834 - IFR: 0.87%\r\n",
      "59  - 2020-04-28 - New / total infections: 2,283 / 171,136 - Hospital beds in use: 737 - New / total deaths: 27.23 / 486.4 - Mean R: 0.834 - IFR: 0.87%\r\n",
      "60  - 2020-04-29 - New / total infections: 2,232 / 173,368 - Hospital beds in use: 722 - New / total deaths: 27.43 / 513.8 - Mean R: 0.833 - IFR: 0.86%\r\n",
      "61  - 2020-04-30 - New / total infections: 2,183 / 175,551 - Hospital beds in use: 708 - New / total deaths: 27.59 / 541.4 - Mean R: 0.833 - IFR: 0.86%\r\n",
      "62  - 2020-05-01 - New / total infections: 2,134 / 177,685 - Hospital beds in use: 693 - New / total deaths: 27.72 / 569.1 - Mean R: 0.833 - IFR: 0.86%\r\n",
      "63  - 2020-05-02 - New / total infections: 2,086 / 179,771 - Hospital beds in use: 679 - New / total deaths: 27.74 / 596.9 - Mean R: 0.832 - IFR: 0.85%\r\n",
      "64  - 2020-05-03 - New / total infections: 2,039 / 181,809 - Hospital beds in use: 665 - New / total deaths: 27.66 / 624.5 - Mean R: 0.832 - IFR: 0.85%\r\n",
      "65  - 2020-05-04 - New / total infections: 1,992 / 183,801 - Hospital beds in use: 651 - New / total deaths: 27.51 / 652.0 - Mean R: 0.832 - IFR: 0.84%\r\n",
      "66  - 2020-05-05 - New / total infections: 1,946 / 185,748 - Hospital beds in use: 638 - New / total deaths: 27.29 / 679.3 - Mean R: 0.831 - IFR: 0.84%\r\n",
      "67  - 2020-05-06 - New / total infections: 1,901 / 187,649 - Hospital beds in use: 624 - New / total deaths: 27.02 / 706.4 - Mean R: 0.831 - IFR: 0.83%\r\n",
      "68  - 2020-05-07 - New / total infections: 1,857 / 189,505 - Hospital beds in use: 611 - New / total deaths: 26.70 / 733.1 - Mean R: 0.830 - IFR: 0.83%\r\n",
      "69  - 2020-05-08 - New / total infections: 1,813 / 191,318 - Hospital beds in use: 598 - New / total deaths: 26.35 / 759.4 - Mean R: 0.830 - IFR: 0.83%\r\n",
      "70  - 2020-05-09 - New / total infections: 1,770 / 193,088 - Hospital beds in use: 586 - New / total deaths: 25.96 / 785.4 - Mean R: 0.830 - IFR: 0.82%\r\n",
      "71  - 2020-05-10 - New / total infections: 1,727 / 194,815 - Hospital beds in use: 573 - New / total deaths: 25.55 / 810.9 - Mean R: 0.829 - IFR: 0.82%\r\n",
      "72  - 2020-05-11 - New / total infections: 1,686 / 196,501 - Hospital beds in use: 561 - New / total deaths: 25.12 / 836.0 - Mean R: 0.829 - IFR: 0.81%\r\n",
      "73  - 2020-05-12 - New / total infections: 1,644 / 198,145 - Hospital beds in use: 549 - New / total deaths: 24.68 / 860.7 - Mean R: 0.829 - IFR: 0.81%\r\n",
      "74  - 2020-05-13 - New / total infections: 1,604 / 199,749 - Hospital beds in use: 537 - New / total deaths: 24.22 / 884.9 - Mean R: 0.829 - IFR: 0.81%\r\n",
      "75  - 2020-05-14 - New / total infections: 1,564 / 201,313 - Hospital beds in use: 525 - New / total deaths: 23.75 / 908.7 - Mean R: 0.828 - IFR: 0.80%\r\n",
      "76  - 2020-05-15 - New / total infections: 1,524 / 202,837 - Hospital beds in use: 514 - New / total deaths: 23.27 / 931.9 - Mean R: 0.828 - IFR: 0.80%\r\n",
      "77  - 2020-05-16 - New / total infections: 1,486 / 204,323 - Hospital beds in use: 503 - New / total deaths: 22.78 / 954.7 - Mean R: 0.828 - IFR: 0.79%\r\n",
      "78  - 2020-05-17 - New / total infections: 1,447 / 205,770 - Hospital beds in use: 492 - New / total deaths: 22.30 / 977.0 - Mean R: 0.827 - IFR: 0.79%\r\n",
      "79  - 2020-05-18 - New / total infections: 1,410 / 207,179 - Hospital beds in use: 481 - New / total deaths: 21.81 / 998.8 - Mean R: 0.827 - IFR: 0.79%\r\n",
      "80  - 2020-05-19 - New / total infections: 1,372 / 208,552 - Hospital beds in use: 470 - New / total deaths: 21.32 / 1,020.2 - Mean R: 0.827 - IFR: 0.78%\r\n",
      "81  - 2020-05-20 - New / total infections: 1,336 / 209,887 - Hospital beds in use: 459 - New / total deaths: 20.83 / 1,041.0 - Mean R: 0.827 - IFR: 0.78%\r\n",
      "82  - 2020-05-21 - New / total infections: 1,299 / 211,187 - Hospital beds in use: 449 - New / total deaths: 20.34 / 1,061.3 - Mean R: 0.826 - IFR: 0.77%\r\n",
      "83  - 2020-05-22 - New / total infections: 1,264 / 212,450 - Hospital beds in use: 439 - New / total deaths: 19.86 / 1,081.2 - Mean R: 0.826 - IFR: 0.77%\r\n",
      "84  - 2020-05-23 - New / total infections: 1,228 / 213,679 - Hospital beds in use: 428 - New / total deaths: 19.38 / 1,100.6 - Mean R: 0.826 - IFR: 0.77%\r\n",
      "85  - 2020-05-24 - New / total infections: 1,193 / 214,872 - Hospital beds in use: 418 - New / total deaths: 18.90 / 1,119.5 - Mean R: 0.826 - IFR: 0.76%\r\n",
      "86  - 2020-05-25 - New / total infections: 1,159 / 216,031 - Hospital beds in use: 409 - New / total deaths: 18.43 / 1,137.9 - Mean R: 0.825 - IFR: 0.76%\r\n",
      "87  - 2020-05-26 - New / total infections: 1,125 / 217,156 - Hospital beds in use: 399 - New / total deaths: 17.96 / 1,155.8 - Mean R: 0.825 - IFR: 0.76%\r\n",
      "88  - 2020-05-27 - New / total infections: 1,092 / 218,248 - Hospital beds in use: 390 - New / total deaths: 17.50 / 1,173.3 - Mean R: 0.825 - IFR: 0.75%\r\n",
      "89  - 2020-05-28 - New / total infections: 1,059 / 219,307 - Hospital beds in use: 380 - New / total deaths: 17.04 / 1,190.4 - Mean R: 0.825 - IFR: 0.75%\r\n",
      "90  - 2020-05-29 - New / total infections: 1,026 / 220,332 - Hospital beds in use: 371 - New / total deaths: 16.59 / 1,207.0 - Mean R: 0.825 - IFR: 0.74%\r\n",
      "91  - 2020-05-30 - New / total infections: 993 / 221,326 - Hospital beds in use: 362 - New / total deaths: 16.14 / 1,223.1 - Mean R: 0.824 - IFR: 0.74%\r\n",
      "92  - 2020-05-31 - New / total infections: 962 / 222,287 - Hospital beds in use: 353 - New / total deaths: 15.70 / 1,238.8 - Mean R: 0.824 - IFR: 0.74%\r\n",
      "93  - 2020-06-01 - New / total infections: 930 / 223,217 - Hospital beds in use: 344 - New / total deaths: 15.27 / 1,254.1 - Mean R: 0.824 - IFR: 0.73%\r\n",
      "94  - 2020-06-02 - New / total infections: 899 / 224,116 - Hospital beds in use: 335 - New / total deaths: 14.85 / 1,268.9 - Mean R: 0.824 - IFR: 0.73%\r\n",
      "95  - 2020-06-03 - New / total infections: 868 / 224,984 - Hospital beds in use: 327 - New / total deaths: 14.44 / 1,283.4 - Mean R: 0.824 - IFR: 0.73%\r\n",
      "96  - 2020-06-04 - New / total infections: 837 / 225,821 - Hospital beds in use: 318 - New / total deaths: 14.04 / 1,297.4 - Mean R: 0.824 - IFR: 0.72%\r\n",
      "97  - 2020-06-05 - New / total infections: 807 / 226,629 - Hospital beds in use: 310 - New / total deaths: 13.64 / 1,311.0 - Mean R: 0.824 - IFR: 0.72%\r\n",
      "98  - 2020-06-06 - New / total infections: 777 / 227,406 - Hospital beds in use: 302 - New / total deaths: 13.26 / 1,324.3 - Mean R: 0.823 - IFR: 0.71%\r\n",
      "99  - 2020-06-07 - New / total infections: 750 / 228,156 - Hospital beds in use: 294 - New / total deaths: 12.88 / 1,337.2 - Mean R: 0.823 - IFR: 0.71%\r\n",
      "100 - 2020-06-08 - New / total infections: 725 / 228,881 - Hospital beds in use: 286 - New / total deaths: 12.51 / 1,349.7 - Mean R: 0.823 - IFR: 0.71%\r\n",
      "101 - 2020-06-09 - New / total infections: 700 / 229,581 - Hospital beds in use: 278 - New / total deaths: 12.15 / 1,361.8 - Mean R: 0.823 - IFR: 0.70%\r\n",
      "102 - 2020-06-10 - New / total infections: 675 / 230,256 - Hospital beds in use: 270 - New / total deaths: 11.79 / 1,373.6 - Mean R: 0.823 - IFR: 0.70%\r\n",
      "103 - 2020-06-11 - New / total infections: 652 / 230,908 - Hospital beds in use: 263 - New / total deaths: 11.45 / 1,385.1 - Mean R: 0.823 - IFR: 0.70%\r\n",
      "104 - 2020-06-12 - New / total infections: 629 / 231,537 - Hospital beds in use: 255 - New / total deaths: 11.11 / 1,396.2 - Mean R: 0.824 - IFR: 0.69%\r\n",
      "105 - 2020-06-13 - New / total infections: 608 / 232,145 - Hospital beds in use: 248 - New / total deaths: 10.78 / 1,407.0 - Mean R: 0.824 - IFR: 0.69%\r\n",
      "106 - 2020-06-14 - New / total infections: 587 / 232,732 - Hospital beds in use: 240 - New / total deaths: 10.45 / 1,417.4 - Mean R: 0.824 - IFR: 0.69%\r\n",
      "107 - 2020-06-15 - New / total infections: 568 / 233,300 - Hospital beds in use: 233 - New / total deaths: 10.14 / 1,427.5 - Mean R: 0.825 - IFR: 0.68%\r\n",
      "108 - 2020-06-16 - New / total infections: 549 / 233,848 - Hospital beds in use: 226 - New / total deaths: 9.83 / 1,437.4 - Mean R: 0.825 - IFR: 0.68%\r\n",
      "109 - 2020-06-17 - New / total infections: 531 / 234,379 - Hospital beds in use: 218 - New / total deaths: 9.52 / 1,446.9 - Mean R: 0.827 - IFR: 0.68%\r\n",
      "110 - 2020-06-18 - New / total infections: 514 / 234,893 - Hospital beds in use: 211 - New / total deaths: 9.22 / 1,456.1 - Mean R: 0.828 - IFR: 0.67%\r\n",
      "111 - 2020-06-19 - New / total infections: 498 / 235,391 - Hospital beds in use: 204 - New / total deaths: 8.93 / 1,465.0 - Mean R: 0.830 - IFR: 0.67%\r\n",
      "112 - 2020-06-20 - New / total infections: 483 / 235,875 - Hospital beds in use: 198 - New / total deaths: 8.64 / 1,473.7 - Mean R: 0.833 - IFR: 0.67%\r\n",
      "113 - 2020-06-21 - New / total infections: 470 / 236,344 - Hospital beds in use: 191 - New / total deaths: 8.36 / 1,482.1 - Mean R: 0.836 - IFR: 0.66%\r\n",
      "114 - 2020-06-22 - New / total infections: 457 / 236,802 - Hospital beds in use: 184 - New / total deaths: 8.09 / 1,490.1 - Mean R: 0.841 - IFR: 0.66%\r\n",
      "115 - 2020-06-23 - New / total infections: 446 / 237,248 - Hospital beds in use: 178 - New / total deaths: 7.82 / 1,498.0 - Mean R: 0.847 - IFR: 0.66%\r\n",
      "116 - 2020-06-24 - New / total infections: 436 / 237,684 - Hospital beds in use: 172 - New / total deaths: 7.56 / 1,505.5 - Mean R: 0.854 - IFR: 0.65%\r\n",
      "117 - 2020-06-25 - New / total infections: 428 / 238,112 - Hospital beds in use: 166 - New / total deaths: 7.30 / 1,512.8 - Mean R: 0.863 - IFR: 0.65%\r\n",
      "118 - 2020-06-26 - New / total infections: 422 / 238,534 - Hospital beds in use: 160 - New / total deaths: 7.05 / 1,519.9 - Mean R: 0.874 - IFR: 0.65%\r\n",
      "119 - 2020-06-27 - New / total infections: 417 / 238,951 - Hospital beds in use: 154 - New / total deaths: 6.80 / 1,526.7 - Mean R: 0.887 - IFR: 0.64%\r\n",
      "120 - 2020-06-28 - New / total infections: 414 / 239,365 - Hospital beds in use: 149 - New / total deaths: 6.56 / 1,533.2 - Mean R: 0.902 - IFR: 0.64%\r\n",
      "121 - 2020-06-29 - New / total infections: 412 / 239,777 - Hospital beds in use: 144 - New / total deaths: 6.33 / 1,539.6 - Mean R: 0.919 - IFR: 0.64%\r\n",
      "122 - 2020-06-30 - New / total infections: 412 / 240,190 - Hospital beds in use: 139 - New / total deaths: 6.10 / 1,545.7 - Mean R: 0.935 - IFR: 0.63%\r\n",
      "123 - 2020-07-01 - New / total infections: 413 / 240,603 - Hospital beds in use: 134 - New / total deaths: 5.88 / 1,551.6 - Mean R: 0.952 - IFR: 0.63%\r\n",
      "124 - 2020-07-02 - New / total infections: 416 / 241,019 - Hospital beds in use: 130 - New / total deaths: 5.67 / 1,557.2 - Mean R: 0.969 - IFR: 0.63%\r\n",
      "125 - 2020-07-03 - New / total infections: 419 / 241,437 - Hospital beds in use: 125 - New / total deaths: 5.46 / 1,562.7 - Mean R: 0.983 - IFR: 0.62%\r\n",
      "126 - 2020-07-04 - New / total infections: 422 / 241,860 - Hospital beds in use: 121 - New / total deaths: 5.26 / 1,567.9 - Mean R: 0.996 - IFR: 0.62%\r\n",
      "127 - 2020-07-05 - New / total infections: 427 / 242,286 - Hospital beds in use: 117 - New / total deaths: 5.06 / 1,573.0 - Mean R: 1.008 - IFR: 0.62%\r\n",
      "128 - 2020-07-06 - New / total infections: 431 / 242,718 - Hospital beds in use: 114 - New / total deaths: 4.88 / 1,577.9 - Mean R: 1.017 - IFR: 0.61%\r\n",
      "129 - 2020-07-07 - New / total infections: 437 / 243,154 - Hospital beds in use: 110 - New / total deaths: 4.69 / 1,582.6 - Mean R: 1.024 - IFR: 0.61%\r\n",
      "130 - 2020-07-08 - New / total infections: 442 / 243,596 - Hospital beds in use: 107 - New / total deaths: 4.52 / 1,587.1 - Mean R: 1.030 - IFR: 0.61%\r\n",
      "131 - 2020-07-09 - New / total infections: 448 / 244,044 - Hospital beds in use: 104 - New / total deaths: 4.35 / 1,591.4 - Mean R: 1.035 - IFR: 0.61%\r\n",
      "132 - 2020-07-10 - New / total infections: 453 / 244,497 - Hospital beds in use: 102 - New / total deaths: 4.19 / 1,595.6 - Mean R: 1.038 - IFR: 0.60%\r\n",
      "133 - 2020-07-11 - New / total infections: 459 / 244,957 - Hospital beds in use: 99 - New / total deaths: 4.04 / 1,599.7 - Mean R: 1.041 - IFR: 0.60%\r\n",
      "134 - 2020-07-12 - New / total infections: 466 / 245,422 - Hospital beds in use: 97 - New / total deaths: 3.89 / 1,603.6 - Mean R: 1.043 - IFR: 0.58%\r\n",
      "135 - 2020-07-13 - New / total infections: 472 / 245,894 - Hospital beds in use: 95 - New / total deaths: 3.74 / 1,607.3 - Mean R: 1.044 - IFR: 0.57%\r\n",
      "136 - 2020-07-14 - New / total infections: 478 / 246,372 - Hospital beds in use: 94 - New / total deaths: 3.59 / 1,610.9 - Mean R: 1.045 - IFR: 0.56%\r",
      "\r\n",
      "137 - 2020-07-15 - New / total infections: 484 / 246,857 - Hospital beds in use: 93 - New / total deaths: 3.44 / 1,614.3 - Mean R: 1.046 - IFR: 0.54%\r\n",
      "138 - 2020-07-16 - New / total infections: 491 / 247,348 - Hospital beds in use: 92 - New / total deaths: 3.30 / 1,617.6 - Mean R: 1.047 - IFR: 0.53%\r\n",
      "139 - 2020-07-17 - New / total infections: 498 / 247,845 - Hospital beds in use: 92 - New / total deaths: 3.16 / 1,620.8 - Mean R: 1.047 - IFR: 0.52%\r\n",
      "140 - 2020-07-18 - New / total infections: 504 / 248,349 - Hospital beds in use: 92 - New / total deaths: 3.03 / 1,623.8 - Mean R: 1.047 - IFR: 0.50%\r\n",
      "141 - 2020-07-19 - New / total infections: 511 / 248,860 - Hospital beds in use: 92 - New / total deaths: 2.91 / 1,626.7 - Mean R: 1.047 - IFR: 0.49%\r\n",
      "142 - 2020-07-20 - New / total infections: 518 / 249,378 - Hospital beds in use: 92 - New / total deaths: 2.79 / 1,629.5 - Mean R: 1.047 - IFR: 0.48%\r\n",
      "143 - 2020-07-21 - New / total infections: 524 / 249,902 - Hospital beds in use: 92 - New / total deaths: 2.68 / 1,632.2 - Mean R: 1.047 - IFR: 0.47%\r\n",
      "144 - 2020-07-22 - New / total infections: 531 / 250,433 - Hospital beds in use: 93 - New / total deaths: 2.58 / 1,634.8 - Mean R: 1.047 - IFR: 0.45%\r\n",
      "145 - 2020-07-23 - New / total infections: 538 / 250,971 - Hospital beds in use: 94 - New / total deaths: 2.48 / 1,637.3 - Mean R: 1.047 - IFR: 0.44%\r\n",
      "146 - 2020-07-24 - New / total infections: 545 / 251,516 - Hospital beds in use: 95 - New / total deaths: 2.40 / 1,639.7 - Mean R: 1.047 - IFR: 0.43%\r\n",
      "147 - 2020-07-25 - New / total infections: 551 / 252,067 - Hospital beds in use: 96 - New / total deaths: 2.32 / 1,642.0 - Mean R: 1.046 - IFR: 0.42%\r\n",
      "148 - 2020-07-26 - New / total infections: 558 / 252,625 - Hospital beds in use: 97 - New / total deaths: 2.24 / 1,644.2 - Mean R: 1.045 - IFR: 0.41%\r\n",
      "149 - 2020-07-27 - New / total infections: 565 / 253,190 - Hospital beds in use: 98 - New / total deaths: 2.17 / 1,646.4 - Mean R: 1.045 - IFR: 0.40%\r\n",
      "150 - 2020-07-28 - New / total infections: 571 / 253,761 - Hospital beds in use: 99 - New / total deaths: 2.10 / 1,648.5 - Mean R: 1.044 - IFR: 0.39%\r\n",
      "151 - 2020-07-29 - New / total infections: 578 / 254,339 - Hospital beds in use: 101 - New / total deaths: 2.04 / 1,650.5 - Mean R: 1.043 - IFR: 0.38%\r\n",
      "152 - 2020-07-30 - New / total infections: 584 / 254,923 - Hospital beds in use: 102 - New / total deaths: 1.99 / 1,652.5 - Mean R: 1.041 - IFR: 0.37%\r\n",
      "153 - 2020-07-31 - New / total infections: 590 / 255,513 - Hospital beds in use: 103 - New / total deaths: 1.94 / 1,654.5 - Mean R: 1.039 - IFR: 0.36%\r\n",
      "154 - 2020-08-01 - New / total infections: 595 / 256,108 - Hospital beds in use: 105 - New / total deaths: 1.89 / 1,656.3 - Mean R: 1.036 - IFR: 0.35%\r\n",
      "155 - 2020-08-02 - New / total infections: 600 / 256,708 - Hospital beds in use: 106 - New / total deaths: 1.84 / 1,658.2 - Mean R: 1.033 - IFR: 0.34%\r\n",
      "156 - 2020-08-03 - New / total infections: 604 / 257,312 - Hospital beds in use: 108 - New / total deaths: 1.80 / 1,660.0 - Mean R: 1.029 - IFR: 0.34%\r\n",
      "157 - 2020-08-04 - New / total infections: 608 / 257,920 - Hospital beds in use: 109 - New / total deaths: 1.76 / 1,661.7 - Mean R: 1.024 - IFR: 0.33%\r\n",
      "158 - 2020-08-05 - New / total infections: 610 / 258,530 - Hospital beds in use: 110 - New / total deaths: 1.72 / 1,663.5 - Mean R: 1.018 - IFR: 0.32%\r\n",
      "159 - 2020-08-06 - New / total infections: 611 / 259,141 - Hospital beds in use: 112 - New / total deaths: 1.69 / 1,665.1 - Mean R: 1.011 - IFR: 0.31%\r\n",
      "160 - 2020-08-07 - New / total infections: 611 / 259,752 - Hospital beds in use: 113 - New / total deaths: 1.65 / 1,666.8 - Mean R: 1.003 - IFR: 0.30%\r\n",
      "161 - 2020-08-08 - New / total infections: 610 / 260,361 - Hospital beds in use: 115 - New / total deaths: 1.62 / 1,668.4 - Mean R: 0.994 - IFR: 0.30%\r\n",
      "162 - 2020-08-09 - New / total infections: 609 / 260,970 - Hospital beds in use: 116 - New / total deaths: 1.59 / 1,670.0 - Mean R: 0.987 - IFR: 0.30%\r\n",
      "163 - 2020-08-10 - New / total infections: 606 / 261,577 - Hospital beds in use: 118 - New / total deaths: 1.57 / 1,671.6 - Mean R: 0.980 - IFR: 0.30%\r\n",
      "164 - 2020-08-11 - New / total infections: 604 / 262,180 - Hospital beds in use: 119 - New / total deaths: 1.56 / 1,673.1 - Mean R: 0.973 - IFR: 0.30%\r\n",
      "165 - 2020-08-12 - New / total infections: 600 / 262,780 - Hospital beds in use: 121 - New / total deaths: 1.55 / 1,674.7 - Mean R: 0.967 - IFR: 0.30%\r\n",
      "166 - 2020-08-13 - New / total infections: 596 / 263,376 - Hospital beds in use: 122 - New / total deaths: 1.54 / 1,676.2 - Mean R: 0.962 - IFR: 0.30%\r\n",
      "167 - 2020-08-14 - New / total infections: 592 / 263,969 - Hospital beds in use: 124 - New / total deaths: 1.54 / 1,677.8 - Mean R: 0.958 - IFR: 0.30%\r\n",
      "168 - 2020-08-15 - New / total infections: 589 / 264,558 - Hospital beds in use: 125 - New / total deaths: 1.54 / 1,679.3 - Mean R: 0.955 - IFR: 0.30%\r\n",
      "169 - 2020-08-16 - New / total infections: 585 / 265,142 - Hospital beds in use: 126 - New / total deaths: 1.55 / 1,680.9 - Mean R: 0.953 - IFR: 0.30%\r\n",
      "170 - 2020-08-17 - New / total infections: 581 / 265,723 - Hospital beds in use: 128 - New / total deaths: 1.55 / 1,682.4 - Mean R: 0.952 - IFR: 0.30%\r\n",
      "171 - 2020-08-18 - New / total infections: 577 / 266,300 - Hospital beds in use: 129 - New / total deaths: 1.56 / 1,684.0 - Mean R: 0.951 - IFR: 0.30%\r\n",
      "172 - 2020-08-19 - New / total infections: 573 / 266,874 - Hospital beds in use: 130 - New / total deaths: 1.56 / 1,685.5 - Mean R: 0.951 - IFR: 0.30%\r\n",
      "173 - 2020-08-20 - New / total infections: 570 / 267,444 - Hospital beds in use: 131 - New / total deaths: 1.57 / 1,687.1 - Mean R: 0.952 - IFR: 0.30%\r\n",
      "174 - 2020-08-21 - New / total infections: 567 / 268,011 - Hospital beds in use: 132 - New / total deaths: 1.58 / 1,688.7 - Mean R: 0.952 - IFR: 0.30%\r\n",
      "175 - 2020-08-22 - New / total infections: 564 / 268,574 - Hospital beds in use: 132 - New / total deaths: 1.59 / 1,690.3 - Mean R: 0.953 - IFR: 0.30%\r\n",
      "176 - 2020-08-23 - New / total infections: 561 / 269,136 - Hospital beds in use: 133 - New / total deaths: 1.60 / 1,691.9 - Mean R: 0.955 - IFR: 0.30%\r\n",
      "177 - 2020-08-24 - New / total infections: 559 / 269,694 - Hospital beds in use: 133 - New / total deaths: 1.61 / 1,693.5 - Mean R: 0.956 - IFR: 0.30%\r\n",
      "178 - 2020-08-25 - New / total infections: 556 / 270,250 - Hospital beds in use: 133 - New / total deaths: 1.62 / 1,695.1 - Mean R: 0.958 - IFR: 0.30%\r\n",
      "179 - 2020-08-26 - New / total infections: 554 / 270,804 - Hospital beds in use: 133 - New / total deaths: 1.63 / 1,696.7 - Mean R: 0.959 - IFR: 0.30%\r\n",
      "180 - 2020-08-27 - New / total infections: 552 / 271,357 - Hospital beds in use: 133 - New / total deaths: 1.64 / 1,698.4 - Mean R: 0.961 - IFR: 0.30%\r\n",
      "181 - 2020-08-28 - New / total infections: 551 / 271,907 - Hospital beds in use: 132 - New / total deaths: 1.65 / 1,700.0 - Mean R: 0.963 - IFR: 0.30%\r\n",
      "182 - 2020-08-29 - New / total infections: 549 / 272,456 - Hospital beds in use: 132 - New / total deaths: 1.66 / 1,701.7 - Mean R: 0.965 - IFR: 0.30%\r\n",
      "183 - 2020-08-30 - New / total infections: 548 / 273,004 - Hospital beds in use: 131 - New / total deaths: 1.67 / 1,703.4 - Mean R: 0.967 - IFR: 0.30%\r\n",
      "184 - 2020-08-31 - New / total infections: 547 / 273,551 - Hospital beds in use: 130 - New / total deaths: 1.68 / 1,705.0 - Mean R: 0.969 - IFR: 0.30%\r\n",
      "185 - 2020-09-01 - New / total infections: 546 / 274,097 - Hospital beds in use: 130 - New / total deaths: 1.68 / 1,706.7 - Mean R: 0.971 - IFR: 0.31%\r\n",
      "186 - 2020-09-02 - New / total infections: 546 / 274,643 - Hospital beds in use: 129 - New / total deaths: 1.69 / 1,708.4 - Mean R: 0.973 - IFR: 0.31%\r\n",
      "187 - 2020-09-03 - New / total infections: 545 / 275,188 - Hospital beds in use: 128 - New / total deaths: 1.69 / 1,710.1 - Mean R: 0.974 - IFR: 0.31%\r\n",
      "188 - 2020-09-04 - New / total infections: 545 / 275,733 - Hospital beds in use: 127 - New / total deaths: 1.70 / 1,711.8 - Mean R: 0.976 - IFR: 0.31%\r\n",
      "189 - 2020-09-05 - New / total infections: 545 / 276,279 - Hospital beds in use: 127 - New / total deaths: 1.70 / 1,713.5 - Mean R: 0.978 - IFR: 0.31%\r\n",
      "190 - 2020-09-06 - New / total infections: 546 / 276,824 - Hospital beds in use: 126 - New / total deaths: 1.70 / 1,715.2 - Mean R: 0.980 - IFR: 0.31%\r\n",
      "191 - 2020-09-07 - New / total infections: 546 / 277,371 - Hospital beds in use: 125 - New / total deaths: 1.70 / 1,716.9 - Mean R: 0.983 - IFR: 0.31%\r\n",
      "192 - 2020-09-08 - New / total infections: 547 / 277,918 - Hospital beds in use: 124 - New / total deaths: 1.70 / 1,718.6 - Mean R: 0.985 - IFR: 0.31%\r\n",
      "193 - 2020-09-09 - New / total infections: 548 / 278,466 - Hospital beds in use: 124 - New / total deaths: 1.70 / 1,720.3 - Mean R: 0.987 - IFR: 0.31%\r\n",
      "194 - 2020-09-10 - New / total infections: 550 / 279,016 - Hospital beds in use: 123 - New / total deaths: 1.70 / 1,722.0 - Mean R: 0.989 - IFR: 0.31%\r\n",
      "195 - 2020-09-11 - New / total infections: 551 / 279,567 - Hospital beds in use: 123 - New / total deaths: 1.70 / 1,723.7 - Mean R: 0.991 - IFR: 0.31%\r\n",
      "196 - 2020-09-12 - New / total infections: 553 / 280,120 - Hospital beds in use: 122 - New / total deaths: 1.70 / 1,725.4 - Mean R: 0.994 - IFR: 0.31%\r\n",
      "197 - 2020-09-13 - New / total infections: 555 / 280,676 - Hospital beds in use: 122 - New / total deaths: 1.70 / 1,727.1 - Mean R: 0.996 - IFR: 0.31%\r\n",
      "198 - 2020-09-14 - New / total infections: 558 / 281,233 - Hospital beds in use: 121 - New / total deaths: 1.70 / 1,728.8 - Mean R: 0.999 - IFR: 0.31%\r\n",
      "199 - 2020-09-15 - New / total infections: 561 / 281,794 - Hospital beds in use: 121 - New / total deaths: 1.69 / 1,730.5 - Mean R: 1.001 - IFR: 0.31%\r\n",
      "200 - 2020-09-16 - New / total infections: 564 / 282,358 - Hospital beds in use: 121 - New / total deaths: 1.69 / 1,732.2 - Mean R: 1.004 - IFR: 0.31%\r\n",
      "201 - 2020-09-17 - New / total infections: 567 / 282,924 - Hospital beds in use: 120 - New / total deaths: 1.69 / 1,733.9 - Mean R: 1.006 - IFR: 0.32%\r\n",
      "202 - 2020-09-18 - New / total infections: 570 / 283,495 - Hospital beds in use: 120 - New / total deaths: 1.69 / 1,735.6 - Mean R: 1.009 - IFR: 0.32%\r\n",
      "203 - 2020-09-19 - New / total infections: 574 / 284,069 - Hospital beds in use: 120 - New / total deaths: 1.68 / 1,737.2 - Mean R: 1.011 - IFR: 0.32%\r\n",
      "204 - 2020-09-20 - New / total infections: 579 / 284,648 - Hospital beds in use: 120 - New / total deaths: 1.68 / 1,738.9 - Mean R: 1.014 - IFR: 0.32%\r\n",
      "205 - 2020-09-21 - New / total infections: 583 / 285,231 - Hospital beds in use: 120 - New / total deaths: 1.68 / 1,740.6 - Mean R: 1.016 - IFR: 0.32%\r\n",
      "206 - 2020-09-22 - New / total infections: 588 / 285,819 - Hospital beds in use: 120 - New / total deaths: 1.68 / 1,742.3 - Mean R: 1.019 - IFR: 0.32%\r\n",
      "207 - 2020-09-23 - New / total infections: 593 / 286,412 - Hospital beds in use: 120 - New / total deaths: 1.68 / 1,744.0 - Mean R: 1.022 - IFR: 0.32%\r\n",
      "208 - 2020-09-24 - New / total infections: 599 / 287,011 - Hospital beds in use: 120 - New / total deaths: 1.68 / 1,745.6 - Mean R: 1.024 - IFR: 0.32%\r\n",
      "209 - 2020-09-25 - New / total infections: 604 / 287,615 - Hospital beds in use: 120 - New / total deaths: 1.67 / 1,747.3 - Mean R: 1.027 - IFR: 0.32%\r\n",
      "210 - 2020-09-26 - New / total infections: 610 / 288,225 - Hospital beds in use: 120 - New / total deaths: 1.67 / 1,749.0 - Mean R: 1.029 - IFR: 0.32%\r\n",
      "211 - 2020-09-27 - New / total infections: 617 / 288,842 - Hospital beds in use: 120 - New / total deaths: 1.67 / 1,750.7 - Mean R: 1.032 - IFR: 0.32%\r\n",
      "212 - 2020-09-28 - New / total infections: 624 / 289,466 - Hospital beds in use: 121 - New / total deaths: 1.67 / 1,752.3 - Mean R: 1.034 - IFR: 0.32%\r\n",
      "213 - 2020-09-29 - New / total infections: 631 / 290,097 - Hospital beds in use: 121 - New / total deaths: 1.68 / 1,754.0 - Mean R: 1.037 - IFR: 0.32%\r\n",
      "214 - 2020-09-30 - New / total infections: 638 / 290,735 - Hospital beds in use: 122 - New / total deaths: 1.68 / 1,755.7 - Mean R: 1.039 - IFR: 0.32%\r\n",
      "215 - 2020-10-01 - New / total infections: 646 / 291,382 - Hospital beds in use: 122 - New / total deaths: 1.68 / 1,757.4 - Mean R: 1.042 - IFR: 0.32%\r\n",
      "216 - 2020-10-02 - New / total infections: 655 / 292,036 - Hospital beds in use: 123 - New / total deaths: 1.68 / 1,759.1 - Mean R: 1.044 - IFR: 0.32%\r\n",
      "217 - 2020-10-03 - New / total infections: 663 / 292,700 - Hospital beds in use: 123 - New / total deaths: 1.69 / 1,760.7 - Mean R: 1.047 - IFR: 0.33%\r\n",
      "218 - 2020-10-04 - New / total infections: 672 / 293,372 - Hospital beds in use: 124 - New / total deaths: 1.69 / 1,762.4 - Mean R: 1.049 - IFR: 0.33%\r\n",
      "219 - 2020-10-05 - New / total infections: 682 / 294,054 - Hospital beds in use: 125 - New / total deaths: 1.69 / 1,764.1 - Mean R: 1.052 - IFR: 0.33%\r\n",
      "220 - 2020-10-06 - New / total infections: 692 / 294,746 - Hospital beds in use: 125 - New / total deaths: 1.70 / 1,765.8 - Mean R: 1.054 - IFR: 0.33%\r\n",
      "221 - 2020-10-07 - New / total infections: 702 / 295,449 - Hospital beds in use: 126 - New / total deaths: 1.71 / 1,767.5 - Mean R: 1.057 - IFR: 0.33%\r\n",
      "222 - 2020-10-08 - New / total infections: 713 / 296,162 - Hospital beds in use: 127 - New / total deaths: 1.71 / 1,769.2 - Mean R: 1.059 - IFR: 0.33%\r\n",
      "223 - 2020-10-09 - New / total infections: 725 / 296,886 - Hospital beds in use: 128 - New / total deaths: 1.72 / 1,771.0 - Mean R: 1.062 - IFR: 0.33%\r\n",
      "224 - 2020-10-10 - New / total infections: 736 / 297,623 - Hospital beds in use: 129 - New / total deaths: 1.73 / 1,772.7 - Mean R: 1.064 - IFR: 0.33%\r\n",
      "225 - 2020-10-11 - New / total infections: 749 / 298,371 - Hospital beds in use: 130 - New / total deaths: 1.74 / 1,774.4 - Mean R: 1.067 - IFR: 0.33%\r\n",
      "226 - 2020-10-12 - New / total infections: 762 / 299,133 - Hospital beds in use: 132 - New / total deaths: 1.75 / 1,776.2 - Mean R: 1.069 - IFR: 0.33%\r\n",
      "227 - 2020-10-13 - New / total infections: 775 / 299,908 - Hospital beds in use: 133 - New / total deaths: 1.76 / 1,777.9 - Mean R: 1.072 - IFR: 0.33%\r\n",
      "228 - 2020-10-14 - New / total infections: 789 / 300,697 - Hospital beds in use: 134 - New / total deaths: 1.77 / 1,779.7 - Mean R: 1.074 - IFR: 0.33%\r\n",
      "229 - 2020-10-15 - New / total infections: 803 / 301,500 - Hospital beds in use: 136 - New / total deaths: 1.79 / 1,781.5 - Mean R: 1.077 - IFR: 0.33%\r\n",
      "230 - 2020-10-16 - New / total infections: 819 / 302,319 - Hospital beds in use: 137 - New / total deaths: 1.80 / 1,783.3 - Mean R: 1.079 - IFR: 0.33%\r\n",
      "231 - 2020-10-17 - New / total infections: 834 / 303,153 - Hospital beds in use: 139 - New / total deaths: 1.81 / 1,785.1 - Mean R: 1.082 - IFR: 0.33%\r\n",
      "232 - 2020-10-18 - New / total infections: 851 / 304,004 - Hospital beds in use: 140 - New / total deaths: 1.83 / 1,786.9 - Mean R: 1.084 - IFR: 0.34%\r\n",
      "233 - 2020-10-19 - New / total infections: 868 / 304,872 - Hospital beds in use: 142 - New / total deaths: 1.85 / 1,788.8 - Mean R: 1.086 - IFR: 0.34%\r\n",
      "234 - 2020-10-20 - New / total infections: 886 / 305,757 - Hospital beds in use: 144 - New / total deaths: 1.87 / 1,790.6 - Mean R: 1.089 - IFR: 0.34%\r\n",
      "235 - 2020-10-21 - New / total infections: 904 / 306,662 - Hospital beds in use: 146 - New / total deaths: 1.88 / 1,792.5 - Mean R: 1.091 - IFR: 0.34%\r\n",
      "236 - 2020-10-22 - New / total infections: 923 / 307,585 - Hospital beds in use: 148 - New / total deaths: 1.90 / 1,794.4 - Mean R: 1.094 - IFR: 0.34%\r\n",
      "237 - 2020-10-23 - New / total infections: 943 / 308,528 - Hospital beds in use: 150 - New / total deaths: 1.93 / 1,796.4 - Mean R: 1.096 - IFR: 0.34%\r\n",
      "238 - 2020-10-24 - New / total infections: 964 / 309,492 - Hospital beds in use: 152 - New / total deaths: 1.95 / 1,798.3 - Mean R: 1.099 - IFR: 0.34%\r\n",
      "239 - 2020-10-25 - New / total infections: 986 / 310,478 - Hospital beds in use: 155 - New / total deaths: 1.97 / 1,800.3 - Mean R: 1.101 - IFR: 0.34%\r\n",
      "240 - 2020-10-26 - New / total infections: 1,008 / 311,487 - Hospital beds in use: 157 - New / total deaths: 2.00 / 1,802.3 - Mean R: 1.103 - IFR: 0.34%\r\n",
      "241 - 2020-10-27 - New / total infections: 1,032 / 312,519 - Hospital beds in use: 159 - New / total deaths: 2.02 / 1,804.3 - Mean R: 1.106 - IFR: 0.34%\r\n",
      "242 - 2020-10-28 - New / total infections: 1,056 / 313,575 - Hospital beds in use: 162 - New / total deaths: 2.05 / 1,806.4 - Mean R: 1.108 - IFR: 0.34%\r\n",
      "243 - 2020-10-29 - New / total infections: 1,082 / 314,657 - Hospital beds in use: 165 - New / total deaths: 2.08 / 1,808.4 - Mean R: 1.111 - IFR: 0.34%\r\n",
      "244 - 2020-10-30 - New / total infections: 1,108 / 315,765 - Hospital beds in use: 168 - New / total deaths: 2.11 / 1,810.5 - Mean R: 1.113 - IFR: 0.34%\r\n",
      "245 - 2020-10-31 - New / total infections: 1,136 / 316,901 - Hospital beds in use: 171 - New / total deaths: 2.14 / 1,812.7 - Mean R: 1.115 - IFR: 0.34%\r\n",
      "-------------------------------------\r\n",
      "End of simulation       : 2020-10-31\r\n",
      "Total infections        : 316,901\r\n",
      "Peak hospital beds used : 985\r\n",
      "Total deaths            : 1,813\r\n",
      "----------\r\n",
      "Saved file to: philadelphia_simulation.csv\r\n",
      "====================================================\r\n",
      "Done - Current time: 2021-01-18 10:54:09.632686\r\n"
     ]
    }
   ],
   "source": [
    "!python run_simulation.py -v --best_params_dir best_params/latest --country US --region PA --subregion \"Philadelphia\" --simulation_end_date 2020-10-31  --save_csv_fname philadelphia_simulation.csv"
   ]
  },
  {
   "cell_type": "markdown",
   "metadata": {},
   "source": [
    "### Create a DataFrame using the generated csv file"
   ]
  },
  {
   "cell_type": "code",
   "execution_count": 92,
   "metadata": {},
   "outputs": [
    {
     "data": {
      "text/html": [
       "<div>\n",
       "<style scoped>\n",
       "    .dataframe tbody tr th:only-of-type {\n",
       "        vertical-align: middle;\n",
       "    }\n",
       "\n",
       "    .dataframe tbody tr th {\n",
       "        vertical-align: top;\n",
       "    }\n",
       "\n",
       "    .dataframe thead th {\n",
       "        text-align: right;\n",
       "    }\n",
       "</style>\n",
       "<table border=\"1\" class=\"dataframe\">\n",
       "  <thead>\n",
       "    <tr style=\"text-align: right;\">\n",
       "      <th></th>\n",
       "      <th># dates</th>\n",
       "      <th>infections</th>\n",
       "      <th>hospitalizations</th>\n",
       "      <th>deaths</th>\n",
       "      <th>mean_r_t</th>\n",
       "    </tr>\n",
       "  </thead>\n",
       "  <tbody>\n",
       "    <tr>\n",
       "      <th>0</th>\n",
       "      <td>2020-03-01</td>\n",
       "      <td>341.067561</td>\n",
       "      <td>0.0</td>\n",
       "      <td>0.000000</td>\n",
       "      <td>3.786765</td>\n",
       "    </tr>\n",
       "    <tr>\n",
       "      <th>1</th>\n",
       "      <td>2020-03-02</td>\n",
       "      <td>341.067561</td>\n",
       "      <td>0.0</td>\n",
       "      <td>0.000000</td>\n",
       "      <td>3.772705</td>\n",
       "    </tr>\n",
       "    <tr>\n",
       "      <th>2</th>\n",
       "      <td>2020-03-03</td>\n",
       "      <td>341.067561</td>\n",
       "      <td>0.0</td>\n",
       "      <td>0.000000</td>\n",
       "      <td>3.766232</td>\n",
       "    </tr>\n",
       "    <tr>\n",
       "      <th>3</th>\n",
       "      <td>2020-03-04</td>\n",
       "      <td>341.067561</td>\n",
       "      <td>0.0</td>\n",
       "      <td>0.000000</td>\n",
       "      <td>3.756810</td>\n",
       "    </tr>\n",
       "    <tr>\n",
       "      <th>4</th>\n",
       "      <td>2020-03-05</td>\n",
       "      <td>341.067561</td>\n",
       "      <td>0.0</td>\n",
       "      <td>0.000000</td>\n",
       "      <td>3.743129</td>\n",
       "    </tr>\n",
       "    <tr>\n",
       "      <th>240</th>\n",
       "      <td>2020-10-27</td>\n",
       "      <td>1031.936540</td>\n",
       "      <td>159.0</td>\n",
       "      <td>2.023139</td>\n",
       "      <td>1.105808</td>\n",
       "    </tr>\n",
       "    <tr>\n",
       "      <th>241</th>\n",
       "      <td>2020-10-28</td>\n",
       "      <td>1056.373420</td>\n",
       "      <td>162.0</td>\n",
       "      <td>2.050559</td>\n",
       "      <td>1.108195</td>\n",
       "    </tr>\n",
       "    <tr>\n",
       "      <th>242</th>\n",
       "      <td>2020-10-29</td>\n",
       "      <td>1081.804261</td>\n",
       "      <td>165.0</td>\n",
       "      <td>2.079300</td>\n",
       "      <td>1.110575</td>\n",
       "    </tr>\n",
       "    <tr>\n",
       "      <th>243</th>\n",
       "      <td>2020-10-30</td>\n",
       "      <td>1108.270856</td>\n",
       "      <td>168.0</td>\n",
       "      <td>2.109401</td>\n",
       "      <td>1.112948</td>\n",
       "    </tr>\n",
       "    <tr>\n",
       "      <th>244</th>\n",
       "      <td>2020-10-31</td>\n",
       "      <td>1135.817066</td>\n",
       "      <td>171.0</td>\n",
       "      <td>2.140906</td>\n",
       "      <td>1.115315</td>\n",
       "    </tr>\n",
       "  </tbody>\n",
       "</table>\n",
       "</div>"
      ],
      "text/plain": [
       "        # dates   infections  hospitalizations    deaths  mean_r_t\n",
       "0    2020-03-01   341.067561               0.0  0.000000  3.786765\n",
       "1    2020-03-02   341.067561               0.0  0.000000  3.772705\n",
       "2    2020-03-03   341.067561               0.0  0.000000  3.766232\n",
       "3    2020-03-04   341.067561               0.0  0.000000  3.756810\n",
       "4    2020-03-05   341.067561               0.0  0.000000  3.743129\n",
       "240  2020-10-27  1031.936540             159.0  2.023139  1.105808\n",
       "241  2020-10-28  1056.373420             162.0  2.050559  1.108195\n",
       "242  2020-10-29  1081.804261             165.0  2.079300  1.110575\n",
       "243  2020-10-30  1108.270856             168.0  2.109401  1.112948\n",
       "244  2020-10-31  1135.817066             171.0  2.140906  1.115315"
      ]
     },
     "execution_count": 92,
     "metadata": {},
     "output_type": "execute_result"
    }
   ],
   "source": [
    "df = pd.read_csv('philadelphia_simulation.csv')\n",
    "df.iloc[[*range(5), *range(-5, 0)]]"
   ]
  },
  {
   "cell_type": "code",
   "execution_count": 93,
   "metadata": {},
   "outputs": [
    {
     "data": {
      "text/html": [
       "<div>\n",
       "<style scoped>\n",
       "    .dataframe tbody tr th:only-of-type {\n",
       "        vertical-align: middle;\n",
       "    }\n",
       "\n",
       "    .dataframe tbody tr th {\n",
       "        vertical-align: top;\n",
       "    }\n",
       "\n",
       "    .dataframe thead th {\n",
       "        text-align: right;\n",
       "    }\n",
       "</style>\n",
       "<table border=\"1\" class=\"dataframe\">\n",
       "  <thead>\n",
       "    <tr style=\"text-align: right;\">\n",
       "      <th></th>\n",
       "      <th>infections</th>\n",
       "      <th>hospitalizations</th>\n",
       "      <th>deaths</th>\n",
       "      <th>mean_r_t</th>\n",
       "    </tr>\n",
       "  </thead>\n",
       "  <tbody>\n",
       "    <tr>\n",
       "      <th>count</th>\n",
       "      <td>245.000000</td>\n",
       "      <td>245.000000</td>\n",
       "      <td>245.000000</td>\n",
       "      <td>245.000000</td>\n",
       "    </tr>\n",
       "    <tr>\n",
       "      <th>mean</th>\n",
       "      <td>1293.473522</td>\n",
       "      <td>268.889796</td>\n",
       "      <td>7.398696</td>\n",
       "      <td>1.117750</td>\n",
       "    </tr>\n",
       "    <tr>\n",
       "      <th>std</th>\n",
       "      <td>1181.479869</td>\n",
       "      <td>263.673062</td>\n",
       "      <td>8.686049</td>\n",
       "      <td>0.632598</td>\n",
       "    </tr>\n",
       "    <tr>\n",
       "      <th>min</th>\n",
       "      <td>341.067561</td>\n",
       "      <td>0.000000</td>\n",
       "      <td>0.000000</td>\n",
       "      <td>0.823261</td>\n",
       "    </tr>\n",
       "    <tr>\n",
       "      <th>25%</th>\n",
       "      <td>550.514291</td>\n",
       "      <td>120.000000</td>\n",
       "      <td>1.677064</td>\n",
       "      <td>0.837014</td>\n",
       "    </tr>\n",
       "    <tr>\n",
       "      <th>50%</th>\n",
       "      <td>654.676814</td>\n",
       "      <td>133.000000</td>\n",
       "      <td>2.079300</td>\n",
       "      <td>0.973351</td>\n",
       "    </tr>\n",
       "    <tr>\n",
       "      <th>75%</th>\n",
       "      <td>1641.106952</td>\n",
       "      <td>362.000000</td>\n",
       "      <td>11.794712</td>\n",
       "      <td>1.046020</td>\n",
       "    </tr>\n",
       "    <tr>\n",
       "      <th>max</th>\n",
       "      <td>4649.927179</td>\n",
       "      <td>985.000000</td>\n",
       "      <td>27.738627</td>\n",
       "      <td>3.786765</td>\n",
       "    </tr>\n",
       "  </tbody>\n",
       "</table>\n",
       "</div>"
      ],
      "text/plain": [
       "        infections  hospitalizations      deaths    mean_r_t\n",
       "count   245.000000        245.000000  245.000000  245.000000\n",
       "mean   1293.473522        268.889796    7.398696    1.117750\n",
       "std    1181.479869        263.673062    8.686049    0.632598\n",
       "min     341.067561          0.000000    0.000000    0.823261\n",
       "25%     550.514291        120.000000    1.677064    0.837014\n",
       "50%     654.676814        133.000000    2.079300    0.973351\n",
       "75%    1641.106952        362.000000   11.794712    1.046020\n",
       "max    4649.927179        985.000000   27.738627    3.786765"
      ]
     },
     "execution_count": 93,
     "metadata": {},
     "output_type": "execute_result"
    }
   ],
   "source": [
    "df.describe()"
   ]
  },
  {
   "cell_type": "code",
   "execution_count": 94,
   "metadata": {},
   "outputs": [
    {
     "name": "stdout",
     "output_type": "stream",
     "text": [
      "<class 'pandas.core.frame.DataFrame'>\n",
      "RangeIndex: 245 entries, 0 to 244\n",
      "Data columns (total 5 columns):\n",
      " #   Column            Non-Null Count  Dtype  \n",
      "---  ------            --------------  -----  \n",
      " 0   # dates           245 non-null    object \n",
      " 1   infections        245 non-null    float64\n",
      " 2   hospitalizations  245 non-null    float64\n",
      " 3   deaths            245 non-null    float64\n",
      " 4   mean_r_t          245 non-null    float64\n",
      "dtypes: float64(4), object(1)\n",
      "memory usage: 9.7+ KB\n"
     ]
    }
   ],
   "source": [
    "df.info()"
   ]
  },
  {
   "cell_type": "markdown",
   "metadata": {},
   "source": [
    "### Prepare DataFrame for forecasting"
   ]
  },
  {
   "cell_type": "code",
   "execution_count": 95,
   "metadata": {},
   "outputs": [],
   "source": [
    "df = df.drop(columns=['hospitalizations', 'deaths' , 'mean_r_t'])"
   ]
  },
  {
   "cell_type": "markdown",
   "metadata": {},
   "source": [
    "### Set up Facebook Prophet forecasting model"
   ]
  },
  {
   "cell_type": "code",
   "execution_count": 96,
   "metadata": {
    "scrolled": true
   },
   "outputs": [
    {
     "name": "stdout",
     "output_type": "stream",
     "text": [
      "Requirement already satisfied: fbprophet in /opt/anaconda3/lib/python3.8/site-packages (0.7.1)\n",
      "Requirement already satisfied: pandas>=1.0.4 in /opt/anaconda3/lib/python3.8/site-packages (from fbprophet) (1.0.5)\n",
      "Requirement already satisfied: numpy>=1.15.4 in /opt/anaconda3/lib/python3.8/site-packages (from fbprophet) (1.18.5)\n",
      "Requirement already satisfied: holidays>=0.10.2 in /opt/anaconda3/lib/python3.8/site-packages (from fbprophet) (0.10.4)\n",
      "Requirement already satisfied: pystan>=2.14 in /opt/anaconda3/lib/python3.8/site-packages (from fbprophet) (2.19.1.1)\n",
      "Requirement already satisfied: matplotlib>=2.0.0 in /opt/anaconda3/lib/python3.8/site-packages (from fbprophet) (3.2.2)\n",
      "Requirement already satisfied: cmdstanpy==0.9.5 in /opt/anaconda3/lib/python3.8/site-packages (from fbprophet) (0.9.5)\n",
      "Requirement already satisfied: python-dateutil>=2.8.0 in /opt/anaconda3/lib/python3.8/site-packages (from fbprophet) (2.8.1)\n",
      "Requirement already satisfied: Cython>=0.22 in /opt/anaconda3/lib/python3.8/site-packages (from fbprophet) (0.29.21)\n",
      "Requirement already satisfied: tqdm>=4.36.1 in /opt/anaconda3/lib/python3.8/site-packages (from fbprophet) (4.47.0)\n",
      "Requirement already satisfied: setuptools-git>=1.2 in /opt/anaconda3/lib/python3.8/site-packages (from fbprophet) (1.2)\n",
      "Requirement already satisfied: LunarCalendar>=0.0.9 in /opt/anaconda3/lib/python3.8/site-packages (from fbprophet) (0.0.9)\n",
      "Requirement already satisfied: convertdate>=2.1.2 in /opt/anaconda3/lib/python3.8/site-packages (from fbprophet) (2.3.0)\n",
      "Requirement already satisfied: pytz>=2017.2 in /opt/anaconda3/lib/python3.8/site-packages (from pandas>=1.0.4->fbprophet) (2020.1)\n",
      "Requirement already satisfied: six in /opt/anaconda3/lib/python3.8/site-packages (from holidays>=0.10.2->fbprophet) (1.15.0)\n",
      "Requirement already satisfied: korean-lunar-calendar in /opt/anaconda3/lib/python3.8/site-packages (from holidays>=0.10.2->fbprophet) (0.2.1)\n",
      "Requirement already satisfied: pyparsing!=2.0.4,!=2.1.2,!=2.1.6,>=2.0.1 in /opt/anaconda3/lib/python3.8/site-packages (from matplotlib>=2.0.0->fbprophet) (2.4.7)\n",
      "Requirement already satisfied: kiwisolver>=1.0.1 in /opt/anaconda3/lib/python3.8/site-packages (from matplotlib>=2.0.0->fbprophet) (1.2.0)\n",
      "Requirement already satisfied: cycler>=0.10 in /opt/anaconda3/lib/python3.8/site-packages (from matplotlib>=2.0.0->fbprophet) (0.10.0)\n",
      "Requirement already satisfied: ephem>=3.7.5.3 in /opt/anaconda3/lib/python3.8/site-packages (from LunarCalendar>=0.0.9->fbprophet) (3.7.7.1)\n",
      "Requirement already satisfied: pymeeus<=1,>=0.3.6 in /opt/anaconda3/lib/python3.8/site-packages (from convertdate>=2.1.2->fbprophet) (0.3.7)\n"
     ]
    }
   ],
   "source": [
    "!pip install fbprophet"
   ]
  },
  {
   "cell_type": "code",
   "execution_count": 97,
   "metadata": {},
   "outputs": [],
   "source": [
    "from fbprophet import Prophet"
   ]
  },
  {
   "cell_type": "code",
   "execution_count": 98,
   "metadata": {},
   "outputs": [
    {
     "name": "stderr",
     "output_type": "stream",
     "text": [
      "INFO:fbprophet:Disabling daily seasonality. Run prophet with daily_seasonality=True to override this.\n"
     ]
    },
    {
     "data": {
      "text/plain": [
       "<fbprophet.forecaster.Prophet at 0x125cfe0a0>"
      ]
     },
     "execution_count": 98,
     "metadata": {},
     "output_type": "execute_result"
    }
   ],
   "source": [
    "df.columns = ['ds', 'y']\n",
    "m = Prophet(yearly_seasonality=False)\n",
    "m.fit(df)"
   ]
  },
  {
   "cell_type": "code",
   "execution_count": 99,
   "metadata": {},
   "outputs": [
    {
     "data": {
      "text/html": [
       "<div>\n",
       "<style scoped>\n",
       "    .dataframe tbody tr th:only-of-type {\n",
       "        vertical-align: middle;\n",
       "    }\n",
       "\n",
       "    .dataframe tbody tr th {\n",
       "        vertical-align: top;\n",
       "    }\n",
       "\n",
       "    .dataframe thead th {\n",
       "        text-align: right;\n",
       "    }\n",
       "</style>\n",
       "<table border=\"1\" class=\"dataframe\">\n",
       "  <thead>\n",
       "    <tr style=\"text-align: right;\">\n",
       "      <th></th>\n",
       "      <th>ds</th>\n",
       "    </tr>\n",
       "  </thead>\n",
       "  <tbody>\n",
       "    <tr>\n",
       "      <th>605</th>\n",
       "      <td>2021-10-27</td>\n",
       "    </tr>\n",
       "    <tr>\n",
       "      <th>606</th>\n",
       "      <td>2021-10-28</td>\n",
       "    </tr>\n",
       "    <tr>\n",
       "      <th>607</th>\n",
       "      <td>2021-10-29</td>\n",
       "    </tr>\n",
       "    <tr>\n",
       "      <th>608</th>\n",
       "      <td>2021-10-30</td>\n",
       "    </tr>\n",
       "    <tr>\n",
       "      <th>609</th>\n",
       "      <td>2021-10-31</td>\n",
       "    </tr>\n",
       "  </tbody>\n",
       "</table>\n",
       "</div>"
      ],
      "text/plain": [
       "            ds\n",
       "605 2021-10-27\n",
       "606 2021-10-28\n",
       "607 2021-10-29\n",
       "608 2021-10-30\n",
       "609 2021-10-31"
      ]
     },
     "execution_count": 99,
     "metadata": {},
     "output_type": "execute_result"
    }
   ],
   "source": [
    "future = m.make_future_dataframe(periods=365)\n",
    "future.tail()"
   ]
  },
  {
   "cell_type": "markdown",
   "metadata": {},
   "source": [
    "### Forecast infection rates using Facebook prophet model"
   ]
  },
  {
   "cell_type": "code",
   "execution_count": 100,
   "metadata": {},
   "outputs": [
    {
     "data": {
      "text/html": [
       "<div>\n",
       "<style scoped>\n",
       "    .dataframe tbody tr th:only-of-type {\n",
       "        vertical-align: middle;\n",
       "    }\n",
       "\n",
       "    .dataframe tbody tr th {\n",
       "        vertical-align: top;\n",
       "    }\n",
       "\n",
       "    .dataframe thead th {\n",
       "        text-align: right;\n",
       "    }\n",
       "</style>\n",
       "<table border=\"1\" class=\"dataframe\">\n",
       "  <thead>\n",
       "    <tr style=\"text-align: right;\">\n",
       "      <th></th>\n",
       "      <th>ds</th>\n",
       "      <th>yhat</th>\n",
       "      <th>yhat_lower</th>\n",
       "      <th>yhat_upper</th>\n",
       "    </tr>\n",
       "  </thead>\n",
       "  <tbody>\n",
       "    <tr>\n",
       "      <th>605</th>\n",
       "      <td>2021-10-27</td>\n",
       "      <td>387.902382</td>\n",
       "      <td>-2942.927657</td>\n",
       "      <td>3610.102625</td>\n",
       "    </tr>\n",
       "    <tr>\n",
       "      <th>606</th>\n",
       "      <td>2021-10-28</td>\n",
       "      <td>392.888061</td>\n",
       "      <td>-2946.365745</td>\n",
       "      <td>3651.279452</td>\n",
       "    </tr>\n",
       "    <tr>\n",
       "      <th>607</th>\n",
       "      <td>2021-10-29</td>\n",
       "      <td>401.552955</td>\n",
       "      <td>-2934.551413</td>\n",
       "      <td>3715.088673</td>\n",
       "    </tr>\n",
       "    <tr>\n",
       "      <th>608</th>\n",
       "      <td>2021-10-30</td>\n",
       "      <td>414.774987</td>\n",
       "      <td>-3028.117148</td>\n",
       "      <td>3678.247252</td>\n",
       "    </tr>\n",
       "    <tr>\n",
       "      <th>609</th>\n",
       "      <td>2021-10-31</td>\n",
       "      <td>344.108815</td>\n",
       "      <td>-2891.076164</td>\n",
       "      <td>3602.372444</td>\n",
       "    </tr>\n",
       "  </tbody>\n",
       "</table>\n",
       "</div>"
      ],
      "text/plain": [
       "            ds        yhat   yhat_lower   yhat_upper\n",
       "605 2021-10-27  387.902382 -2942.927657  3610.102625\n",
       "606 2021-10-28  392.888061 -2946.365745  3651.279452\n",
       "607 2021-10-29  401.552955 -2934.551413  3715.088673\n",
       "608 2021-10-30  414.774987 -3028.117148  3678.247252\n",
       "609 2021-10-31  344.108815 -2891.076164  3602.372444"
      ]
     },
     "execution_count": 100,
     "metadata": {},
     "output_type": "execute_result"
    }
   ],
   "source": [
    "forecast = m.predict(future)\n",
    "forecast[['ds', 'yhat', 'yhat_lower', 'yhat_upper']].tail()"
   ]
  },
  {
   "cell_type": "code",
   "execution_count": 101,
   "metadata": {},
   "outputs": [
    {
     "data": {
      "image/png": "[encoded data removed]",
      "text/plain": [
       "<Figure size 720x432 with 1 Axes>"
      ]
     },
     "metadata": {},
     "output_type": "display_data"
    }
   ],
   "source": [
    "fig1 = m.plot(forecast)"
   ]
  },
  {
   "cell_type": "markdown",
   "metadata": {},
   "source": [
    "### Integrate dataset with newest case numbers from Philadelphia"
   ]
  },
  {
   "cell_type": "code",
   "execution_count": 102,
   "metadata": {},
   "outputs": [
    {
     "data": {
      "text/plain": [
       "ds                2020-03-05 00:00:00\n",
       "positive_tests                    138\n",
       "Name: 110, dtype: object"
      ]
     },
     "execution_count": 102,
     "metadata": {},
     "output_type": "execute_result"
    }
   ],
   "source": [
    "df_new_data = pd.read_csv('covid_cases_by_date.csv')\n",
    "df_new_data = df_new_data[df_new_data.test_result != 'negative']\n",
    "df_new_data = df_new_data.drop(columns = ['the_geom','the_geom_webmercator', 'test_result'])\n",
    "df_new_data['collection_date'] = pd.to_datetime(df_new_data.collection_date)\n",
    "df['ds'] = pd.to_datetime(df.ds)\n",
    "df_new_data = df_new_data.sort_values(by='collection_date')\n",
    "df_new_data.columns = ['ds', 'positive_tests']\n",
    "df_new_data.iloc[19,:]\n",
    "\n",
    "#df_new_data"
   ]
  },
  {
   "cell_type": "code",
   "execution_count": 103,
   "metadata": {},
   "outputs": [
    {
     "data": {
      "text/html": [
       "<div>\n",
       "<style scoped>\n",
       "    .dataframe tbody tr th:only-of-type {\n",
       "        vertical-align: middle;\n",
       "    }\n",
       "\n",
       "    .dataframe tbody tr th {\n",
       "        vertical-align: top;\n",
       "    }\n",
       "\n",
       "    .dataframe thead th {\n",
       "        text-align: right;\n",
       "    }\n",
       "</style>\n",
       "<table border=\"1\" class=\"dataframe\">\n",
       "  <thead>\n",
       "    <tr style=\"text-align: right;\">\n",
       "      <th></th>\n",
       "      <th>ds</th>\n",
       "      <th>infections</th>\n",
       "      <th>positive_tests</th>\n",
       "    </tr>\n",
       "  </thead>\n",
       "  <tbody>\n",
       "    <tr>\n",
       "      <th>0</th>\n",
       "      <td>2020-03-04</td>\n",
       "      <td>341.067561</td>\n",
       "      <td>524</td>\n",
       "    </tr>\n",
       "    <tr>\n",
       "      <th>1</th>\n",
       "      <td>2020-03-05</td>\n",
       "      <td>341.067561</td>\n",
       "      <td>138</td>\n",
       "    </tr>\n",
       "    <tr>\n",
       "      <th>2</th>\n",
       "      <td>2020-03-06</td>\n",
       "      <td>341.067561</td>\n",
       "      <td>145</td>\n",
       "    </tr>\n",
       "    <tr>\n",
       "      <th>3</th>\n",
       "      <td>2020-03-07</td>\n",
       "      <td>341.067561</td>\n",
       "      <td>97</td>\n",
       "    </tr>\n",
       "    <tr>\n",
       "      <th>4</th>\n",
       "      <td>2020-03-08</td>\n",
       "      <td>341.067561</td>\n",
       "      <td>144</td>\n",
       "    </tr>\n",
       "    <tr>\n",
       "      <th>...</th>\n",
       "      <td>...</td>\n",
       "      <td>...</td>\n",
       "      <td>...</td>\n",
       "    </tr>\n",
       "    <tr>\n",
       "      <th>216</th>\n",
       "      <td>2020-10-27</td>\n",
       "      <td>1031.936540</td>\n",
       "      <td>402</td>\n",
       "    </tr>\n",
       "    <tr>\n",
       "      <th>217</th>\n",
       "      <td>2020-10-28</td>\n",
       "      <td>1056.373420</td>\n",
       "      <td>490</td>\n",
       "    </tr>\n",
       "    <tr>\n",
       "      <th>218</th>\n",
       "      <td>2020-10-29</td>\n",
       "      <td>1081.804261</td>\n",
       "      <td>450</td>\n",
       "    </tr>\n",
       "    <tr>\n",
       "      <th>219</th>\n",
       "      <td>2020-10-30</td>\n",
       "      <td>1108.270856</td>\n",
       "      <td>531</td>\n",
       "    </tr>\n",
       "    <tr>\n",
       "      <th>220</th>\n",
       "      <td>2020-10-31</td>\n",
       "      <td>1135.817066</td>\n",
       "      <td>291</td>\n",
       "    </tr>\n",
       "  </tbody>\n",
       "</table>\n",
       "<p>221 rows × 3 columns</p>\n",
       "</div>"
      ],
      "text/plain": [
       "            ds   infections  positive_tests\n",
       "0   2020-03-04   341.067561             524\n",
       "1   2020-03-05   341.067561             138\n",
       "2   2020-03-06   341.067561             145\n",
       "3   2020-03-07   341.067561              97\n",
       "4   2020-03-08   341.067561             144\n",
       "..         ...          ...             ...\n",
       "216 2020-10-27  1031.936540             402\n",
       "217 2020-10-28  1056.373420             490\n",
       "218 2020-10-29  1081.804261             450\n",
       "219 2020-10-30  1108.270856             531\n",
       "220 2020-10-31  1135.817066             291\n",
       "\n",
       "[221 rows x 3 columns]"
      ]
     },
     "execution_count": 103,
     "metadata": {},
     "output_type": "execute_result"
    }
   ],
   "source": [
    "df = pd.read_csv('philadelphia_simulation.csv')\n",
    "df = df.drop(columns=['hospitalizations', 'deaths', 'mean_r_t'])\n",
    "df.columns = ['ds', 'infections']\n",
    "df['ds'] = pd.to_datetime(df.ds)\n",
    "df = pd.merge(df, df_new_data)\n",
    "df"
   ]
  },
  {
   "cell_type": "markdown",
   "metadata": {},
   "source": [
    "### Run linear regression model on positive tests to predict infections for full set of dates"
   ]
  },
  {
   "cell_type": "code",
   "execution_count": 105,
   "metadata": {},
   "outputs": [],
   "source": [
    "from sklearn.linear_model import LinearRegression\n",
    "from sklearn.model_selection import train_test_split\n",
    "from matplotlib import pyplot as plt\n",
    "%matplotlib notebook"
   ]
  },
  {
   "cell_type": "code",
   "execution_count": 107,
   "metadata": {},
   "outputs": [
    {
     "data": {
      "image/png": "[encoded data removed]",
      "text/plain": [
       "<Figure size 432x288 with 1 Axes>"
      ]
     },
     "metadata": {
      "needs_background": "light"
     },
     "output_type": "display_data"
    }
   ],
   "source": [
    "df.plot(kind='scatter', x = 'infections', y = 'positive_tests')\n",
    "plt.show()"
   ]
  },
  {
   "cell_type": "code",
   "execution_count": 108,
   "metadata": {},
   "outputs": [],
   "source": [
    "# test train split for supervised training\n",
    "X_train, X_test, y_train, y_test = train_test_split(df.infections, df.positive_tests)"
   ]
  },
  {
   "cell_type": "code",
   "execution_count": 113,
   "metadata": {},
   "outputs": [
    {
     "data": {
      "image/png": "[encoded data removed]",
      "text/plain": [
       "<Figure size 432x288 with 1 Axes>"
      ]
     },
     "metadata": {
      "needs_background": "light"
     },
     "output_type": "display_data"
    }
   ],
   "source": [
    "# test train split visualization\n",
    "plt.scatter(X_train, y_train, label = 'Training data', color = 'r', alpha =.7)\n",
    "plt.scatter(X_test, y_test, label = 'Testing data', color = 'g', alpha =.7)\n",
    "plt.legend()\n",
    "plt.title('Test Train Split')\n",
    "plt.show()"
   ]
  },
  {
   "cell_type": "code",
   "execution_count": 115,
   "metadata": {},
   "outputs": [
    {
     "data": {
      "text/plain": [
       "LinearRegression()"
      ]
     },
     "execution_count": 115,
     "metadata": {},
     "output_type": "execute_result"
    }
   ],
   "source": [
    "# create linear model\n",
    "LR = LinearRegression()\n",
    "LR.fit(X_train.values.reshape(-1,1), y_train.values)\n"
   ]
  },
  {
   "cell_type": "code",
   "execution_count": 116,
   "metadata": {},
   "outputs": [
    {
     "data": {
      "image/png": "[encoded data removed]",
      "text/plain": [
       "<Figure size 432x288 with 1 Axes>"
      ]
     },
     "metadata": {
      "needs_background": "light"
     },
     "output_type": "display_data"
    }
   ],
   "source": [
    "# use model to predict on Test data\n",
    "prediction = LR.predict(X_test.values.reshape(-1,1))\n",
    "\n",
    "# plot prediction line against actual test data\n",
    "plt.plot(X_test, prediction, label='Linear Regression', color = 'b')\n",
    "plt.scatter(X_test, y_test, label = 'Actual Test Data', color = 'g', alpha =.7)\n",
    "plt.legend()\n",
    "plt.show()"
   ]
  },
  {
   "cell_type": "markdown",
   "metadata": {},
   "source": [
    "# Vaccination Predictions"
   ]
  },
  {
   "cell_type": "code",
   "execution_count": 31,
   "metadata": {},
   "outputs": [
    {
     "data": {
      "text/html": [
       "<div>\n",
       "<style scoped>\n",
       "    .dataframe tbody tr th:only-of-type {\n",
       "        vertical-align: middle;\n",
       "    }\n",
       "\n",
       "    .dataframe tbody tr th {\n",
       "        vertical-align: top;\n",
       "    }\n",
       "\n",
       "    .dataframe thead th {\n",
       "        text-align: right;\n",
       "    }\n",
       "</style>\n",
       "<table border=\"1\" class=\"dataframe\">\n",
       "  <thead>\n",
       "    <tr style=\"text-align: right;\">\n",
       "      <th></th>\n",
       "      <th>ds</th>\n",
       "      <th>y</th>\n",
       "    </tr>\n",
       "  </thead>\n",
       "  <tbody>\n",
       "    <tr>\n",
       "      <th>0</th>\n",
       "      <td>16.12.20</td>\n",
       "      <td>1106</td>\n",
       "    </tr>\n",
       "    <tr>\n",
       "      <th>1</th>\n",
       "      <td>17.12.20</td>\n",
       "      <td>2634</td>\n",
       "    </tr>\n",
       "    <tr>\n",
       "      <th>2</th>\n",
       "      <td>18.12.20</td>\n",
       "      <td>5535</td>\n",
       "    </tr>\n",
       "    <tr>\n",
       "      <th>3</th>\n",
       "      <td>19.12.20</td>\n",
       "      <td>6808</td>\n",
       "    </tr>\n",
       "    <tr>\n",
       "      <th>4</th>\n",
       "      <td>20.12.20</td>\n",
       "      <td>7487</td>\n",
       "    </tr>\n",
       "    <tr>\n",
       "      <th>5</th>\n",
       "      <td>21.12.20</td>\n",
       "      <td>9843</td>\n",
       "    </tr>\n",
       "    <tr>\n",
       "      <th>6</th>\n",
       "      <td>22.12.20</td>\n",
       "      <td>12229</td>\n",
       "    </tr>\n",
       "    <tr>\n",
       "      <th>7</th>\n",
       "      <td>23.12.20</td>\n",
       "      <td>14453</td>\n",
       "    </tr>\n",
       "    <tr>\n",
       "      <th>8</th>\n",
       "      <td>24.12.20</td>\n",
       "      <td>14999</td>\n",
       "    </tr>\n",
       "    <tr>\n",
       "      <th>9</th>\n",
       "      <td>25.12.20</td>\n",
       "      <td>14999</td>\n",
       "    </tr>\n",
       "    <tr>\n",
       "      <th>10</th>\n",
       "      <td>26.12.20</td>\n",
       "      <td>15637</td>\n",
       "    </tr>\n",
       "    <tr>\n",
       "      <th>11</th>\n",
       "      <td>27.12.20</td>\n",
       "      <td>16561</td>\n",
       "    </tr>\n",
       "    <tr>\n",
       "      <th>12</th>\n",
       "      <td>28.12.20</td>\n",
       "      <td>19816</td>\n",
       "    </tr>\n",
       "    <tr>\n",
       "      <th>13</th>\n",
       "      <td>29.12.20</td>\n",
       "      <td>23183</td>\n",
       "    </tr>\n",
       "    <tr>\n",
       "      <th>14</th>\n",
       "      <td>30.12.20</td>\n",
       "      <td>26920</td>\n",
       "    </tr>\n",
       "    <tr>\n",
       "      <th>15</th>\n",
       "      <td>31.12.20</td>\n",
       "      <td>28203</td>\n",
       "    </tr>\n",
       "    <tr>\n",
       "      <th>16</th>\n",
       "      <td>01.01.21</td>\n",
       "      <td>28203</td>\n",
       "    </tr>\n",
       "    <tr>\n",
       "      <th>17</th>\n",
       "      <td>02.01.21</td>\n",
       "      <td>28382</td>\n",
       "    </tr>\n",
       "    <tr>\n",
       "      <th>18</th>\n",
       "      <td>03.01.21</td>\n",
       "      <td>28888</td>\n",
       "    </tr>\n",
       "    <tr>\n",
       "      <th>19</th>\n",
       "      <td>04.01.21</td>\n",
       "      <td>30974</td>\n",
       "    </tr>\n",
       "    <tr>\n",
       "      <th>20</th>\n",
       "      <td>05.01.21</td>\n",
       "      <td>34361</td>\n",
       "    </tr>\n",
       "    <tr>\n",
       "      <th>21</th>\n",
       "      <td>06.01.21</td>\n",
       "      <td>37853</td>\n",
       "    </tr>\n",
       "    <tr>\n",
       "      <th>22</th>\n",
       "      <td>07.01.21</td>\n",
       "      <td>41369</td>\n",
       "    </tr>\n",
       "    <tr>\n",
       "      <th>23</th>\n",
       "      <td>08.01.21</td>\n",
       "      <td>46263</td>\n",
       "    </tr>\n",
       "    <tr>\n",
       "      <th>24</th>\n",
       "      <td>09.01.21</td>\n",
       "      <td>49266</td>\n",
       "    </tr>\n",
       "    <tr>\n",
       "      <th>25</th>\n",
       "      <td>10.01.21</td>\n",
       "      <td>49905</td>\n",
       "    </tr>\n",
       "    <tr>\n",
       "      <th>26</th>\n",
       "      <td>11.01.21</td>\n",
       "      <td>51996</td>\n",
       "    </tr>\n",
       "    <tr>\n",
       "      <th>27</th>\n",
       "      <td>12.01.21</td>\n",
       "      <td>55057</td>\n",
       "    </tr>\n",
       "    <tr>\n",
       "      <th>28</th>\n",
       "      <td>13.01.21</td>\n",
       "      <td>59133</td>\n",
       "    </tr>\n",
       "    <tr>\n",
       "      <th>29</th>\n",
       "      <td>14.01.21</td>\n",
       "      <td>60965</td>\n",
       "    </tr>\n",
       "  </tbody>\n",
       "</table>\n",
       "</div>"
      ],
      "text/plain": [
       "          ds      y\n",
       "0   16.12.20   1106\n",
       "1   17.12.20   2634\n",
       "2   18.12.20   5535\n",
       "3   19.12.20   6808\n",
       "4   20.12.20   7487\n",
       "5   21.12.20   9843\n",
       "6   22.12.20  12229\n",
       "7   23.12.20  14453\n",
       "8   24.12.20  14999\n",
       "9   25.12.20  14999\n",
       "10  26.12.20  15637\n",
       "11  27.12.20  16561\n",
       "12  28.12.20  19816\n",
       "13  29.12.20  23183\n",
       "14  30.12.20  26920\n",
       "15  31.12.20  28203\n",
       "16  01.01.21  28203\n",
       "17  02.01.21  28382\n",
       "18  03.01.21  28888\n",
       "19  04.01.21  30974\n",
       "20  05.01.21  34361\n",
       "21  06.01.21  37853\n",
       "22  07.01.21  41369\n",
       "23  08.01.21  46263\n",
       "24  09.01.21  49266\n",
       "25  10.01.21  49905\n",
       "26  11.01.21  51996\n",
       "27  12.01.21  55057\n",
       "28  13.01.21  59133\n",
       "29  14.01.21  60965"
      ]
     },
     "execution_count": 31,
     "metadata": {},
     "output_type": "execute_result"
    }
   ],
   "source": [
    "df_vaccines = pd.read_csv('Prof.csv')\n",
    "df_vaccines.columns = ['ds', 'y']\n",
    "df_vaccines"
   ]
  },
  {
   "cell_type": "code",
   "execution_count": 42,
   "metadata": {},
   "outputs": [
    {
     "name": "stderr",
     "output_type": "stream",
     "text": [
      "INFO:fbprophet:Disabling yearly seasonality. Run prophet with yearly_seasonality=True to override this.\n",
      "INFO:fbprophet:Disabling daily seasonality. Run prophet with daily_seasonality=True to override this.\n",
      "INFO:fbprophet:n_changepoints greater than number of observations. Using 23.\n"
     ]
    },
    {
     "data": {
      "text/plain": [
       "<fbprophet.forecaster.Prophet at 0x127f66be0>"
      ]
     },
     "execution_count": 42,
     "metadata": {},
     "output_type": "execute_result"
    }
   ],
   "source": [
    "n = Prophet()\n",
    "n.fit(df_vaccines)"
   ]
  },
  {
   "cell_type": "code",
   "execution_count": 43,
   "metadata": {},
   "outputs": [
    {
     "data": {
      "text/html": [
       "<div>\n",
       "<style scoped>\n",
       "    .dataframe tbody tr th:only-of-type {\n",
       "        vertical-align: middle;\n",
       "    }\n",
       "\n",
       "    .dataframe tbody tr th {\n",
       "        vertical-align: top;\n",
       "    }\n",
       "\n",
       "    .dataframe thead th {\n",
       "        text-align: right;\n",
       "    }\n",
       "</style>\n",
       "<table border=\"1\" class=\"dataframe\">\n",
       "  <thead>\n",
       "    <tr style=\"text-align: right;\">\n",
       "      <th></th>\n",
       "      <th>ds</th>\n",
       "    </tr>\n",
       "  </thead>\n",
       "  <tbody>\n",
       "    <tr>\n",
       "      <th>390</th>\n",
       "      <td>2022-11-27</td>\n",
       "    </tr>\n",
       "    <tr>\n",
       "      <th>391</th>\n",
       "      <td>2022-11-28</td>\n",
       "    </tr>\n",
       "    <tr>\n",
       "      <th>392</th>\n",
       "      <td>2022-11-29</td>\n",
       "    </tr>\n",
       "    <tr>\n",
       "      <th>393</th>\n",
       "      <td>2022-11-30</td>\n",
       "    </tr>\n",
       "    <tr>\n",
       "      <th>394</th>\n",
       "      <td>2022-12-01</td>\n",
       "    </tr>\n",
       "  </tbody>\n",
       "</table>\n",
       "</div>"
      ],
      "text/plain": [
       "            ds\n",
       "390 2022-11-27\n",
       "391 2022-11-28\n",
       "392 2022-11-29\n",
       "393 2022-11-30\n",
       "394 2022-12-01"
      ]
     },
     "execution_count": 43,
     "metadata": {},
     "output_type": "execute_result"
    }
   ],
   "source": [
    "vaccine_future = n.make_future_dataframe(periods=365)\n",
    "vaccine_future.tail()"
   ]
  },
  {
   "cell_type": "code",
   "execution_count": 44,
   "metadata": {},
   "outputs": [
    {
     "data": {
      "text/html": [
       "<div>\n",
       "<style scoped>\n",
       "    .dataframe tbody tr th:only-of-type {\n",
       "        vertical-align: middle;\n",
       "    }\n",
       "\n",
       "    .dataframe tbody tr th {\n",
       "        vertical-align: top;\n",
       "    }\n",
       "\n",
       "    .dataframe thead th {\n",
       "        text-align: right;\n",
       "    }\n",
       "</style>\n",
       "<table border=\"1\" class=\"dataframe\">\n",
       "  <thead>\n",
       "    <tr style=\"text-align: right;\">\n",
       "      <th></th>\n",
       "      <th>ds</th>\n",
       "      <th>yhat</th>\n",
       "      <th>yhat_lower</th>\n",
       "      <th>yhat_upper</th>\n",
       "    </tr>\n",
       "  </thead>\n",
       "  <tbody>\n",
       "    <tr>\n",
       "      <th>390</th>\n",
       "      <td>2022-11-27</td>\n",
       "      <td>96414.607602</td>\n",
       "      <td>82406.237705</td>\n",
       "      <td>111734.902989</td>\n",
       "    </tr>\n",
       "    <tr>\n",
       "      <th>391</th>\n",
       "      <td>2022-11-28</td>\n",
       "      <td>99594.775991</td>\n",
       "      <td>85048.865640</td>\n",
       "      <td>114180.333073</td>\n",
       "    </tr>\n",
       "    <tr>\n",
       "      <th>392</th>\n",
       "      <td>2022-11-29</td>\n",
       "      <td>99790.714354</td>\n",
       "      <td>86461.902280</td>\n",
       "      <td>114174.599720</td>\n",
       "    </tr>\n",
       "    <tr>\n",
       "      <th>393</th>\n",
       "      <td>2022-11-30</td>\n",
       "      <td>104248.032397</td>\n",
       "      <td>89381.709105</td>\n",
       "      <td>119820.305064</td>\n",
       "    </tr>\n",
       "    <tr>\n",
       "      <th>394</th>\n",
       "      <td>2022-12-01</td>\n",
       "      <td>105700.573610</td>\n",
       "      <td>91401.088277</td>\n",
       "      <td>119855.372650</td>\n",
       "    </tr>\n",
       "  </tbody>\n",
       "</table>\n",
       "</div>"
      ],
      "text/plain": [
       "            ds           yhat    yhat_lower     yhat_upper\n",
       "390 2022-11-27   96414.607602  82406.237705  111734.902989\n",
       "391 2022-11-28   99594.775991  85048.865640  114180.333073\n",
       "392 2022-11-29   99790.714354  86461.902280  114174.599720\n",
       "393 2022-11-30  104248.032397  89381.709105  119820.305064\n",
       "394 2022-12-01  105700.573610  91401.088277  119855.372650"
      ]
     },
     "execution_count": 44,
     "metadata": {},
     "output_type": "execute_result"
    }
   ],
   "source": [
    "vaccine_forecast = n.predict(vaccine_future)\n",
    "vaccine_forecast[['ds', 'yhat', 'yhat_lower', 'yhat_upper']].tail()"
   ]
  },
  {
   "cell_type": "code",
   "execution_count": 45,
   "metadata": {},
   "outputs": [
    {
     "data": {
      "image/png": "[encoded data removed]",
      "text/plain": [
       "<Figure size 720x432 with 1 Axes>"
      ]
     },
     "metadata": {},
     "output_type": "display_data"
    },
    {
     "data": {
      "image/png": "[encoded data removed]",
      "text/plain": [
       "<Figure size 720x432 with 1 Axes>"
      ]
     },
     "metadata": {},
     "output_type": "display_data"
    }
   ],
   "source": [
    "fig1 = m.plot(forecast)\n",
    "fig2 = n.plot(vaccine_forecast)"
   ]
  },
  {
   "cell_type": "markdown",
   "metadata": {},
   "source": []
  }
 ],
 "metadata": {
  "kernelspec": {
   "display_name": "Python 3",
   "language": "python",
   "name": "python3"
  },
  "language_info": {
   "codemirror_mode": {
    "name": "ipython",
    "version": 3
   },
   "file_extension": ".py",
   "mimetype": "text/x-python",
   "name": "python",
   "nbconvert_exporter": "python",
   "pygments_lexer": "ipython3",
   "version": "3.8.3"
  }
 },
 "nbformat": 4,
 "nbformat_minor": 4
}
